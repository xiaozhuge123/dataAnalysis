{
 "cells": [
  {
   "cell_type": "code",
   "id": "initial_id",
   "metadata": {
    "collapsed": true,
    "ExecuteTime": {
     "end_time": "2025-08-04T08:34:47.257685Z",
     "start_time": "2025-08-04T08:34:47.243174Z"
    }
   },
   "source": [
    "# dataFrame的创建方式\n",
    "import pandas as pd\n",
    "# 通过Series来创建\n",
    "s1 = pd.Series([1,2,3,4,5])\n",
    "s2 = pd.Series([6,7,8,9,10])\n",
    "df = pd.DataFrame({'第1列':s1,'第2列':s2})\n",
    "df\n",
    "# 通过字典创建\n",
    "df = pd.DataFrame({\n",
    "    'name':['tom','jack','alice','bob','allen'],\n",
    "    'age':[15,17,20,22,30],\n",
    "    'score':[30,40,50,60,70]\n",
    "},index=[1,2,3,4,5],columns=['name','score','age'])\n",
    "df"
   ],
   "outputs": [
    {
     "data": {
      "text/plain": [
       "    name  score  age\n",
       "1    tom     30   15\n",
       "2   jack     40   17\n",
       "3  alice     50   20\n",
       "4    bob     60   22\n",
       "5  allen     70   30"
      ],
      "text/html": [
       "<div>\n",
       "<style scoped>\n",
       "    .dataframe tbody tr th:only-of-type {\n",
       "        vertical-align: middle;\n",
       "    }\n",
       "\n",
       "    .dataframe tbody tr th {\n",
       "        vertical-align: top;\n",
       "    }\n",
       "\n",
       "    .dataframe thead th {\n",
       "        text-align: right;\n",
       "    }\n",
       "</style>\n",
       "<table border=\"1\" class=\"dataframe\">\n",
       "  <thead>\n",
       "    <tr style=\"text-align: right;\">\n",
       "      <th></th>\n",
       "      <th>name</th>\n",
       "      <th>score</th>\n",
       "      <th>age</th>\n",
       "    </tr>\n",
       "  </thead>\n",
       "  <tbody>\n",
       "    <tr>\n",
       "      <th>1</th>\n",
       "      <td>tom</td>\n",
       "      <td>30</td>\n",
       "      <td>15</td>\n",
       "    </tr>\n",
       "    <tr>\n",
       "      <th>2</th>\n",
       "      <td>jack</td>\n",
       "      <td>40</td>\n",
       "      <td>17</td>\n",
       "    </tr>\n",
       "    <tr>\n",
       "      <th>3</th>\n",
       "      <td>alice</td>\n",
       "      <td>50</td>\n",
       "      <td>20</td>\n",
       "    </tr>\n",
       "    <tr>\n",
       "      <th>4</th>\n",
       "      <td>bob</td>\n",
       "      <td>60</td>\n",
       "      <td>22</td>\n",
       "    </tr>\n",
       "    <tr>\n",
       "      <th>5</th>\n",
       "      <td>allen</td>\n",
       "      <td>70</td>\n",
       "      <td>30</td>\n",
       "    </tr>\n",
       "  </tbody>\n",
       "</table>\n",
       "</div>"
      ]
     },
     "execution_count": 3,
     "metadata": {},
     "output_type": "execute_result"
    }
   ],
   "execution_count": 3
  },
  {
   "metadata": {
    "ExecuteTime": {
     "end_time": "2025-08-04T08:40:52.439287Z",
     "start_time": "2025-08-04T08:40:52.433931Z"
    }
   },
   "cell_type": "code",
   "source": [
    "# DataFrame的属性\n",
    "print('行索引：')\n",
    "print(df.index)\n",
    "print('列标签：')\n",
    "print(df.columns)\n",
    "print('值：')\n",
    "print(df.values)"
   ],
   "id": "dd83b87cd9f3aeab",
   "outputs": [
    {
     "name": "stdout",
     "output_type": "stream",
     "text": [
      "行索引：\n",
      "Index([1, 2, 3, 4, 5], dtype='int64')\n",
      "列标签：\n",
      "Index(['name', 'score', 'age'], dtype='object')\n",
      "值：\n",
      "[['tom' 30 15]\n",
      " ['jack' 40 17]\n",
      " ['alice' 50 20]\n",
      " ['bob' 60 22]\n",
      " ['allen' 70 30]]\n"
     ]
    }
   ],
   "execution_count": 6
  },
  {
   "metadata": {
    "ExecuteTime": {
     "end_time": "2025-08-04T08:42:33.510600Z",
     "start_time": "2025-08-04T08:42:33.504761Z"
    }
   },
   "cell_type": "code",
   "source": [
    "print('维度：',df.ndim)\n",
    "print('形状：',df.shape)\n",
    "print('个数：',df.size)\n",
    "print(df.dtypes)"
   ],
   "id": "f00b370a33f8d354",
   "outputs": [
    {
     "name": "stdout",
     "output_type": "stream",
     "text": [
      "维度： 2\n",
      "形状： (5, 3)\n",
      "个数： 15\n",
      "name     object\n",
      "score     int64\n",
      "age       int64\n",
      "dtype: object\n"
     ]
    }
   ],
   "execution_count": 9
  },
  {
   "metadata": {
    "ExecuteTime": {
     "end_time": "2025-08-04T08:43:10.731767Z",
     "start_time": "2025-08-04T08:43:10.724693Z"
    }
   },
   "cell_type": "code",
   "source": [
    "# 行内转置\n",
    "print(df.T)"
   ],
   "id": "b238c181a671ece4",
   "outputs": [
    {
     "name": "stdout",
     "output_type": "stream",
     "text": [
      "         1     2      3    4      5\n",
      "name   tom  jack  alice  bob  allen\n",
      "score   30    40     50   60     70\n",
      "age     15    17     20   22     30\n"
     ]
    }
   ],
   "execution_count": 10
  },
  {
   "metadata": {
    "ExecuteTime": {
     "end_time": "2025-08-04T08:44:46.701672Z",
     "start_time": "2025-08-04T08:44:46.695860Z"
    }
   },
   "cell_type": "code",
   "source": [
    "# 获取元素 loc iloc at iat\n",
    "# 某行\n",
    "print(df.loc[1])\n",
    "print(df.iloc[0])"
   ],
   "id": "67ab017c03d8ad77",
   "outputs": [
    {
     "name": "stdout",
     "output_type": "stream",
     "text": [
      "name     tom\n",
      "score     30\n",
      "age       15\n",
      "Name: 1, dtype: object\n",
      "name     tom\n",
      "score     30\n",
      "age       15\n",
      "Name: 1, dtype: object\n"
     ]
    }
   ],
   "execution_count": 15
  },
  {
   "metadata": {
    "ExecuteTime": {
     "end_time": "2025-08-04T08:45:41.828979Z",
     "start_time": "2025-08-04T08:45:41.822748Z"
    }
   },
   "cell_type": "code",
   "source": [
    "# 某列\n",
    "print(df.loc[:,'name'])\n",
    "print(df.iloc[:,0])"
   ],
   "id": "3ff42e7d75678eda",
   "outputs": [
    {
     "name": "stdout",
     "output_type": "stream",
     "text": [
      "1      tom\n",
      "2     jack\n",
      "3    alice\n",
      "4      bob\n",
      "5    allen\n",
      "Name: name, dtype: object\n",
      "1      tom\n",
      "2     jack\n",
      "3    alice\n",
      "4      bob\n",
      "5    allen\n",
      "Name: name, dtype: object\n"
     ]
    }
   ],
   "execution_count": 17
  },
  {
   "metadata": {
    "ExecuteTime": {
     "end_time": "2025-08-04T08:48:35.948129Z",
     "start_time": "2025-08-04T08:48:35.942054Z"
    }
   },
   "cell_type": "code",
   "source": [
    "print(df)\n",
    "# 单个元素\n",
    "print(df.at[3,'name'])\n",
    "print(df.iat[2,0])\n",
    "print(df.loc[3,'name'])\n",
    "print(df.iloc[2,0])"
   ],
   "id": "4ef45f2d00f97948",
   "outputs": [
    {
     "name": "stdout",
     "output_type": "stream",
     "text": [
      "    name  score  age\n",
      "1    tom     30   15\n",
      "2   jack     40   17\n",
      "3  alice     50   20\n",
      "4    bob     60   22\n",
      "5  allen     70   30\n",
      "alice\n",
      "alice\n",
      "alice\n",
      "alice\n"
     ]
    }
   ],
   "execution_count": 22
  },
  {
   "metadata": {
    "ExecuteTime": {
     "end_time": "2025-08-04T08:51:14.929377Z",
     "start_time": "2025-08-04T08:51:14.916997Z"
    }
   },
   "cell_type": "code",
   "source": [
    "# 获取单列数据\n",
    "print(df['name'])\n",
    "print(type(df['name']))\n",
    "print(df.name)\n",
    "print(type(df.name))\n",
    "print(df[['name']])\n",
    "print(type(df[['name']]))\n",
    "df[['name']]"
   ],
   "id": "508c1f18cac6cd47",
   "outputs": [
    {
     "name": "stdout",
     "output_type": "stream",
     "text": [
      "1      tom\n",
      "2     jack\n",
      "3    alice\n",
      "4      bob\n",
      "5    allen\n",
      "Name: name, dtype: object\n",
      "<class 'pandas.core.series.Series'>\n",
      "1      tom\n",
      "2     jack\n",
      "3    alice\n",
      "4      bob\n",
      "5    allen\n",
      "Name: name, dtype: object\n",
      "<class 'pandas.core.series.Series'>\n",
      "    name\n",
      "1    tom\n",
      "2   jack\n",
      "3  alice\n",
      "4    bob\n",
      "5  allen\n",
      "<class 'pandas.core.frame.DataFrame'>\n"
     ]
    },
    {
     "data": {
      "text/plain": [
       "    name\n",
       "1    tom\n",
       "2   jack\n",
       "3  alice\n",
       "4    bob\n",
       "5  allen"
      ],
      "text/html": [
       "<div>\n",
       "<style scoped>\n",
       "    .dataframe tbody tr th:only-of-type {\n",
       "        vertical-align: middle;\n",
       "    }\n",
       "\n",
       "    .dataframe tbody tr th {\n",
       "        vertical-align: top;\n",
       "    }\n",
       "\n",
       "    .dataframe thead th {\n",
       "        text-align: right;\n",
       "    }\n",
       "</style>\n",
       "<table border=\"1\" class=\"dataframe\">\n",
       "  <thead>\n",
       "    <tr style=\"text-align: right;\">\n",
       "      <th></th>\n",
       "      <th>name</th>\n",
       "    </tr>\n",
       "  </thead>\n",
       "  <tbody>\n",
       "    <tr>\n",
       "      <th>1</th>\n",
       "      <td>tom</td>\n",
       "    </tr>\n",
       "    <tr>\n",
       "      <th>2</th>\n",
       "      <td>jack</td>\n",
       "    </tr>\n",
       "    <tr>\n",
       "      <th>3</th>\n",
       "      <td>alice</td>\n",
       "    </tr>\n",
       "    <tr>\n",
       "      <th>4</th>\n",
       "      <td>bob</td>\n",
       "    </tr>\n",
       "    <tr>\n",
       "      <th>5</th>\n",
       "      <td>allen</td>\n",
       "    </tr>\n",
       "  </tbody>\n",
       "</table>\n",
       "</div>"
      ]
     },
     "execution_count": 29,
     "metadata": {},
     "output_type": "execute_result"
    }
   ],
   "execution_count": 29
  },
  {
   "metadata": {
    "ExecuteTime": {
     "end_time": "2025-08-04T08:51:53.503059Z",
     "start_time": "2025-08-04T08:51:53.497387Z"
    }
   },
   "cell_type": "code",
   "source": [
    "# 多列数据的获取\n",
    "print(df[['name','score']])"
   ],
   "id": "9fccad3204bde9fb",
   "outputs": [
    {
     "name": "stdout",
     "output_type": "stream",
     "text": [
      "    name  score\n",
      "1    tom     30\n",
      "2   jack     40\n",
      "3  alice     50\n",
      "4    bob     60\n",
      "5  allen     70\n"
     ]
    }
   ],
   "execution_count": 30
  },
  {
   "metadata": {
    "ExecuteTime": {
     "end_time": "2025-08-04T08:52:27.936265Z",
     "start_time": "2025-08-04T08:52:27.929973Z"
    }
   },
   "cell_type": "code",
   "source": [
    "# 查看部分数据\n",
    "print(df.head(2))\n",
    "print(df.tail(2))"
   ],
   "id": "10f9074ce1ba29b4",
   "outputs": [
    {
     "name": "stdout",
     "output_type": "stream",
     "text": [
      "   name  score  age\n",
      "1   tom     30   15\n",
      "2  jack     40   17\n",
      "    name  score  age\n",
      "4    bob     60   22\n",
      "5  allen     70   30\n"
     ]
    }
   ],
   "execution_count": 32
  },
  {
   "metadata": {
    "ExecuteTime": {
     "end_time": "2025-08-04T08:54:21.215629Z",
     "start_time": "2025-08-04T08:54:21.203339Z"
    }
   },
   "cell_type": "code",
   "source": [
    "# 使用索引筛选数据\n",
    "df[df.score > 40]\n",
    "df[(df.score > 40) | (df.age >20)]"
   ],
   "id": "3753305fcec17fb5",
   "outputs": [
    {
     "data": {
      "text/plain": [
       "    name  score  age\n",
       "3  alice     50   20\n",
       "4    bob     60   22\n",
       "5  allen     70   30"
      ],
      "text/html": [
       "<div>\n",
       "<style scoped>\n",
       "    .dataframe tbody tr th:only-of-type {\n",
       "        vertical-align: middle;\n",
       "    }\n",
       "\n",
       "    .dataframe tbody tr th {\n",
       "        vertical-align: top;\n",
       "    }\n",
       "\n",
       "    .dataframe thead th {\n",
       "        text-align: right;\n",
       "    }\n",
       "</style>\n",
       "<table border=\"1\" class=\"dataframe\">\n",
       "  <thead>\n",
       "    <tr style=\"text-align: right;\">\n",
       "      <th></th>\n",
       "      <th>name</th>\n",
       "      <th>score</th>\n",
       "      <th>age</th>\n",
       "    </tr>\n",
       "  </thead>\n",
       "  <tbody>\n",
       "    <tr>\n",
       "      <th>3</th>\n",
       "      <td>alice</td>\n",
       "      <td>50</td>\n",
       "      <td>20</td>\n",
       "    </tr>\n",
       "    <tr>\n",
       "      <th>4</th>\n",
       "      <td>bob</td>\n",
       "      <td>60</td>\n",
       "      <td>22</td>\n",
       "    </tr>\n",
       "    <tr>\n",
       "      <th>5</th>\n",
       "      <td>allen</td>\n",
       "      <td>70</td>\n",
       "      <td>30</td>\n",
       "    </tr>\n",
       "  </tbody>\n",
       "</table>\n",
       "</div>"
      ]
     },
     "execution_count": 37,
     "metadata": {},
     "output_type": "execute_result"
    }
   ],
   "execution_count": 37
  },
  {
   "metadata": {
    "ExecuteTime": {
     "end_time": "2025-08-04T08:54:52.021945Z",
     "start_time": "2025-08-04T08:54:52.013141Z"
    }
   },
   "cell_type": "code",
   "source": [
    "# 随机抽样\n",
    "df.sample(3)"
   ],
   "id": "17a49c52c01b4b72",
   "outputs": [
    {
     "data": {
      "text/plain": [
       "    name  score  age\n",
       "2   jack     40   17\n",
       "5  allen     70   30\n",
       "4    bob     60   22"
      ],
      "text/html": [
       "<div>\n",
       "<style scoped>\n",
       "    .dataframe tbody tr th:only-of-type {\n",
       "        vertical-align: middle;\n",
       "    }\n",
       "\n",
       "    .dataframe tbody tr th {\n",
       "        vertical-align: top;\n",
       "    }\n",
       "\n",
       "    .dataframe thead th {\n",
       "        text-align: right;\n",
       "    }\n",
       "</style>\n",
       "<table border=\"1\" class=\"dataframe\">\n",
       "  <thead>\n",
       "    <tr style=\"text-align: right;\">\n",
       "      <th></th>\n",
       "      <th>name</th>\n",
       "      <th>score</th>\n",
       "      <th>age</th>\n",
       "    </tr>\n",
       "  </thead>\n",
       "  <tbody>\n",
       "    <tr>\n",
       "      <th>2</th>\n",
       "      <td>jack</td>\n",
       "      <td>40</td>\n",
       "      <td>17</td>\n",
       "    </tr>\n",
       "    <tr>\n",
       "      <th>5</th>\n",
       "      <td>allen</td>\n",
       "      <td>70</td>\n",
       "      <td>30</td>\n",
       "    </tr>\n",
       "    <tr>\n",
       "      <th>4</th>\n",
       "      <td>bob</td>\n",
       "      <td>60</td>\n",
       "      <td>22</td>\n",
       "    </tr>\n",
       "  </tbody>\n",
       "</table>\n",
       "</div>"
      ]
     },
     "execution_count": 42,
     "metadata": {},
     "output_type": "execute_result"
    }
   ],
   "execution_count": 42
  },
  {
   "metadata": {},
   "cell_type": "code",
   "outputs": [],
   "execution_count": null,
   "source": [
    "df = pd.DataFrame(\n",
    "    {\n",
    "        \"name\":[\"tom\",'jack','alice','bob','allen'],\n",
    "        \"age\":[15,17,20,26,30],\n",
    "        \"score\":[60.5,80,30.6,70,83.5]\n",
    "    },index=[1,2,3,4,5],columns=[\"name\",\"score\",\"age\"]\n",
    ")"
   ],
   "id": "1fa60b8c7b2e1fb9"
  },
  {
   "metadata": {
    "ExecuteTime": {
     "end_time": "2025-08-04T09:00:29.398149Z",
     "start_time": "2025-08-04T09:00:29.390899Z"
    }
   },
   "cell_type": "code",
   "source": [
    "df.head()\n",
    "df.tail(3)\n",
    "df.isin(['jack',20]) # 只要满足一个就是True\n",
    "# 是否有缺失值\n",
    "df.isna()\n",
    "# 某一列的总和\n",
    "print(df.score.sum())\n",
    "# 最大值\n",
    "print(df.score.max())\n",
    "# 最小值\n",
    "print(df.score.min())\n",
    "# 平均值\n",
    "print(df.score.mean())\n",
    "# 中位数\n",
    "print(df.score.median())\n",
    "# 标准差\n",
    "print(df.score.std())\n",
    "# 方差\n",
    "print(df.score.var())\n",
    "# 众数\n",
    "print(df.age.mode())"
   ],
   "id": "b444f5681681636e",
   "outputs": [
    {
     "name": "stdout",
     "output_type": "stream",
     "text": [
      "385.1\n",
      "83.5\n",
      "30.6\n",
      "64.18333333333334\n",
      "65.25\n",
      "19.037375519400424\n",
      "362.4216666666666\n",
      "0    15\n",
      "Name: age, dtype: int64\n"
     ]
    }
   ],
   "execution_count": 57
  },
  {
   "metadata": {
    "ExecuteTime": {
     "end_time": "2025-08-04T09:00:26.225173Z",
     "start_time": "2025-08-04T09:00:26.219225Z"
    }
   },
   "cell_type": "code",
   "source": [
    "df = pd.DataFrame(\n",
    "    {\n",
    "        \"name\":[\"tom\",\"tom\",'jack','alice','bob','allen'],\n",
    "        \"age\":[15,15,15,20,26,30],\n",
    "        \"score\":[60.5,60.5,80,30.6,70,83.5]\n",
    "    },index=[1,2,3,4,5,6],columns=[\"name\",\"score\",\"age\"]\n",
    ")"
   ],
   "id": "e7bb0f4679b4b8d4",
   "outputs": [],
   "execution_count": 56
  },
  {
   "metadata": {
    "ExecuteTime": {
     "end_time": "2025-08-04T09:08:54.498880Z",
     "start_time": "2025-08-04T09:08:54.483779Z"
    }
   },
   "cell_type": "code",
   "source": [
    "print(df.score.quantile([0.25,0.75])) # 分位数\n",
    "print(df.describe())"
   ],
   "id": "c77577016560a39e",
   "outputs": [
    {
     "name": "stdout",
     "output_type": "stream",
     "text": [
      "0.25    60.5\n",
      "0.75    77.5\n",
      "Name: score, dtype: float64\n",
      "           score        age\n",
      "count   6.000000   6.000000\n",
      "mean   64.183333  20.166667\n",
      "std    19.037376   6.493587\n",
      "min    30.600000  15.000000\n",
      "25%    60.500000  15.000000\n",
      "50%    65.250000  17.500000\n",
      "75%    77.500000  24.500000\n",
      "max    83.500000  30.000000\n"
     ]
    }
   ],
   "execution_count": 61
  },
  {
   "metadata": {
    "ExecuteTime": {
     "end_time": "2025-08-04T09:09:49.601145Z",
     "start_time": "2025-08-04T09:09:49.590974Z"
    }
   },
   "cell_type": "code",
   "source": "print(df.count()) # 每一列非缺失值的个数",
   "id": "dc68e31510ebb5c0",
   "outputs": [
    {
     "name": "stdout",
     "output_type": "stream",
     "text": [
      "name     6\n",
      "score    6\n",
      "age      6\n",
      "dtype: int64\n"
     ]
    }
   ],
   "execution_count": 64
  },
  {
   "metadata": {
    "ExecuteTime": {
     "end_time": "2025-08-04T09:10:45.687899Z",
     "start_time": "2025-08-04T09:10:45.679688Z"
    }
   },
   "cell_type": "code",
   "source": "print(df.value_counts()) # 出现的次数",
   "id": "2ff29bdf0d2d7bbc",
   "outputs": [
    {
     "name": "stdout",
     "output_type": "stream",
     "text": [
      "name   score  age\n",
      "tom    60.5   15     2\n",
      "alice  30.6   20     1\n",
      "allen  83.5   30     1\n",
      "bob    70.0   26     1\n",
      "jack   80.0   15     1\n",
      "Name: count, dtype: int64\n"
     ]
    }
   ],
   "execution_count": 65
  },
  {
   "metadata": {
    "ExecuteTime": {
     "end_time": "2025-08-04T09:11:19.542814Z",
     "start_time": "2025-08-04T09:11:19.534322Z"
    }
   },
   "cell_type": "code",
   "source": "print(df.drop_duplicates())  # 去除重复行",
   "id": "c238bf27aa58d394",
   "outputs": [
    {
     "name": "stdout",
     "output_type": "stream",
     "text": [
      "    name  score  age\n",
      "1    tom   60.5   15\n",
      "3   jack   80.0   15\n",
      "4  alice   30.6   20\n",
      "5    bob   70.0   26\n",
      "6  allen   83.5   30\n"
     ]
    }
   ],
   "execution_count": 66
  },
  {
   "metadata": {
    "ExecuteTime": {
     "end_time": "2025-08-04T09:12:18.460674Z",
     "start_time": "2025-08-04T09:12:18.451585Z"
    }
   },
   "cell_type": "code",
   "source": "print(df.duplicated(subset=['age'])) # 判断是否有重复值",
   "id": "b425a556db9d95a0",
   "outputs": [
    {
     "name": "stdout",
     "output_type": "stream",
     "text": [
      "1    False\n",
      "2     True\n",
      "3     True\n",
      "4    False\n",
      "5    False\n",
      "6    False\n",
      "dtype: bool\n"
     ]
    }
   ],
   "execution_count": 68
  },
  {
   "metadata": {
    "ExecuteTime": {
     "end_time": "2025-08-04T09:13:00.691704Z",
     "start_time": "2025-08-04T09:13:00.680707Z"
    }
   },
   "cell_type": "code",
   "source": "df.sample(2) # 随机抽样",
   "id": "522fc5a53fe99a",
   "outputs": [
    {
     "data": {
      "text/plain": [
       "    name  score  age\n",
       "6  allen   83.5   30\n",
       "4  alice   30.6   20"
      ],
      "text/html": [
       "<div>\n",
       "<style scoped>\n",
       "    .dataframe tbody tr th:only-of-type {\n",
       "        vertical-align: middle;\n",
       "    }\n",
       "\n",
       "    .dataframe tbody tr th {\n",
       "        vertical-align: top;\n",
       "    }\n",
       "\n",
       "    .dataframe thead th {\n",
       "        text-align: right;\n",
       "    }\n",
       "</style>\n",
       "<table border=\"1\" class=\"dataframe\">\n",
       "  <thead>\n",
       "    <tr style=\"text-align: right;\">\n",
       "      <th></th>\n",
       "      <th>name</th>\n",
       "      <th>score</th>\n",
       "      <th>age</th>\n",
       "    </tr>\n",
       "  </thead>\n",
       "  <tbody>\n",
       "    <tr>\n",
       "      <th>6</th>\n",
       "      <td>allen</td>\n",
       "      <td>83.5</td>\n",
       "      <td>30</td>\n",
       "    </tr>\n",
       "    <tr>\n",
       "      <th>4</th>\n",
       "      <td>alice</td>\n",
       "      <td>30.6</td>\n",
       "      <td>20</td>\n",
       "    </tr>\n",
       "  </tbody>\n",
       "</table>\n",
       "</div>"
      ]
     },
     "execution_count": 69,
     "metadata": {},
     "output_type": "execute_result"
    }
   ],
   "execution_count": 69
  },
  {
   "metadata": {
    "ExecuteTime": {
     "end_time": "2025-08-04T09:13:52.299710Z",
     "start_time": "2025-08-04T09:13:52.292401Z"
    }
   },
   "cell_type": "code",
   "source": "print(df.replace(15,30)) # 值替换",
   "id": "2eeefb8bbcae5f45",
   "outputs": [
    {
     "name": "stdout",
     "output_type": "stream",
     "text": [
      "    name  score  age\n",
      "1    tom   60.5   30\n",
      "2    tom   60.5   30\n",
      "3   jack   80.0   30\n",
      "4  alice   30.6   20\n",
      "5    bob   70.0   26\n",
      "6  allen   83.5   30\n"
     ]
    }
   ],
   "execution_count": 70
  },
  {
   "metadata": {
    "ExecuteTime": {
     "end_time": "2025-08-04T09:15:02.495405Z",
     "start_time": "2025-08-04T09:15:02.485960Z"
    }
   },
   "cell_type": "code",
   "source": [
    "df.cumsum()  # 累加\n",
    "df.cummin(axis=0)"
   ],
   "id": "5c7b38f671d01fa6",
   "outputs": [
    {
     "data": {
      "text/plain": [
       "    name  score  age\n",
       "1    tom   60.5   15\n",
       "2    tom   60.5   15\n",
       "3   jack   60.5   15\n",
       "4  alice   30.6   15\n",
       "5  alice   30.6   15\n",
       "6  alice   30.6   15"
      ],
      "text/html": [
       "<div>\n",
       "<style scoped>\n",
       "    .dataframe tbody tr th:only-of-type {\n",
       "        vertical-align: middle;\n",
       "    }\n",
       "\n",
       "    .dataframe tbody tr th {\n",
       "        vertical-align: top;\n",
       "    }\n",
       "\n",
       "    .dataframe thead th {\n",
       "        text-align: right;\n",
       "    }\n",
       "</style>\n",
       "<table border=\"1\" class=\"dataframe\">\n",
       "  <thead>\n",
       "    <tr style=\"text-align: right;\">\n",
       "      <th></th>\n",
       "      <th>name</th>\n",
       "      <th>score</th>\n",
       "      <th>age</th>\n",
       "    </tr>\n",
       "  </thead>\n",
       "  <tbody>\n",
       "    <tr>\n",
       "      <th>1</th>\n",
       "      <td>tom</td>\n",
       "      <td>60.5</td>\n",
       "      <td>15</td>\n",
       "    </tr>\n",
       "    <tr>\n",
       "      <th>2</th>\n",
       "      <td>tom</td>\n",
       "      <td>60.5</td>\n",
       "      <td>15</td>\n",
       "    </tr>\n",
       "    <tr>\n",
       "      <th>3</th>\n",
       "      <td>jack</td>\n",
       "      <td>60.5</td>\n",
       "      <td>15</td>\n",
       "    </tr>\n",
       "    <tr>\n",
       "      <th>4</th>\n",
       "      <td>alice</td>\n",
       "      <td>30.6</td>\n",
       "      <td>15</td>\n",
       "    </tr>\n",
       "    <tr>\n",
       "      <th>5</th>\n",
       "      <td>alice</td>\n",
       "      <td>30.6</td>\n",
       "      <td>15</td>\n",
       "    </tr>\n",
       "    <tr>\n",
       "      <th>6</th>\n",
       "      <td>alice</td>\n",
       "      <td>30.6</td>\n",
       "      <td>15</td>\n",
       "    </tr>\n",
       "  </tbody>\n",
       "</table>\n",
       "</div>"
      ]
     },
     "execution_count": 73,
     "metadata": {},
     "output_type": "execute_result"
    }
   ],
   "execution_count": 73
  },
  {
   "metadata": {
    "ExecuteTime": {
     "end_time": "2025-08-04T09:16:33.940531Z",
     "start_time": "2025-08-04T09:16:33.933545Z"
    }
   },
   "cell_type": "code",
   "source": [
    "# 排序\n",
    "print(df.sort_index(ascending=False)) # 按照索引排序"
   ],
   "id": "4cda06ddd0a06af0",
   "outputs": [
    {
     "name": "stdout",
     "output_type": "stream",
     "text": [
      "    name  score  age\n",
      "6  allen   83.5   30\n",
      "5    bob   70.0   26\n",
      "4  alice   30.6   20\n",
      "3   jack   80.0   15\n",
      "2    tom   60.5   15\n",
      "1    tom   60.5   15\n"
     ]
    }
   ],
   "execution_count": 74
  },
  {
   "metadata": {
    "ExecuteTime": {
     "end_time": "2025-08-04T09:17:41.096228Z",
     "start_time": "2025-08-04T09:17:41.089060Z"
    }
   },
   "cell_type": "code",
   "source": [
    "# 按照值排序\n",
    "print(df.sort_values(by=['score'],ascending=False))"
   ],
   "id": "a88dd771fd98c62e",
   "outputs": [
    {
     "name": "stdout",
     "output_type": "stream",
     "text": [
      "    name  score  age\n",
      "6  allen   83.5   30\n",
      "3   jack   80.0   15\n",
      "5    bob   70.0   26\n",
      "1    tom   60.5   15\n",
      "2    tom   60.5   15\n",
      "4  alice   30.6   20\n"
     ]
    }
   ],
   "execution_count": 75
  },
  {
   "metadata": {
    "ExecuteTime": {
     "end_time": "2025-08-04T09:18:24.129481Z",
     "start_time": "2025-08-04T09:18:24.121667Z"
    }
   },
   "cell_type": "code",
   "source": "print(df.sort_values(by=['score','age'],ascending=[False,True]))",
   "id": "562894cd5ce0c492",
   "outputs": [
    {
     "name": "stdout",
     "output_type": "stream",
     "text": [
      "    name  score  age\n",
      "6  allen   83.5   30\n",
      "3   jack   80.0   15\n",
      "5    bob   70.0   26\n",
      "1    tom   60.5   15\n",
      "2    tom   60.5   15\n",
      "4  alice   30.6   20\n"
     ]
    }
   ],
   "execution_count": 76
  },
  {
   "metadata": {
    "ExecuteTime": {
     "end_time": "2025-08-04T09:19:43.536175Z",
     "start_time": "2025-08-04T09:19:43.522133Z"
    }
   },
   "cell_type": "code",
   "source": [
    "df.nlargest(2,columns=['score','age'])\n",
    "df.nsmallest(2,columns=['score','age'])"
   ],
   "id": "8e20eb43534a216c",
   "outputs": [
    {
     "data": {
      "text/plain": [
       "    name  score  age\n",
       "4  alice   30.6   20\n",
       "1    tom   60.5   15"
      ],
      "text/html": [
       "<div>\n",
       "<style scoped>\n",
       "    .dataframe tbody tr th:only-of-type {\n",
       "        vertical-align: middle;\n",
       "    }\n",
       "\n",
       "    .dataframe tbody tr th {\n",
       "        vertical-align: top;\n",
       "    }\n",
       "\n",
       "    .dataframe thead th {\n",
       "        text-align: right;\n",
       "    }\n",
       "</style>\n",
       "<table border=\"1\" class=\"dataframe\">\n",
       "  <thead>\n",
       "    <tr style=\"text-align: right;\">\n",
       "      <th></th>\n",
       "      <th>name</th>\n",
       "      <th>score</th>\n",
       "      <th>age</th>\n",
       "    </tr>\n",
       "  </thead>\n",
       "  <tbody>\n",
       "    <tr>\n",
       "      <th>4</th>\n",
       "      <td>alice</td>\n",
       "      <td>30.6</td>\n",
       "      <td>20</td>\n",
       "    </tr>\n",
       "    <tr>\n",
       "      <th>1</th>\n",
       "      <td>tom</td>\n",
       "      <td>60.5</td>\n",
       "      <td>15</td>\n",
       "    </tr>\n",
       "  </tbody>\n",
       "</table>\n",
       "</div>"
      ]
     },
     "execution_count": 79,
     "metadata": {},
     "output_type": "execute_result"
    }
   ],
   "execution_count": 79
  },
  {
   "metadata": {
    "ExecuteTime": {
     "end_time": "2025-08-04T09:28:05.918596Z",
     "start_time": "2025-08-04T09:28:05.902709Z"
    }
   },
   "cell_type": "code",
   "source": [
    "'''\n",
    "案例1：学生成绩分析\n",
    "场景：某班级的学生成绩数据如下，请完成以下任务：\n",
    "1. 计算每位学生的总分和平均分。\n",
    "2. 找出数学成绩高于90分或英语成绩高于85分的学生。\n",
    "3. 按总分从高到低排序，并输出前3名学生。\n",
    "'''\n",
    "data = {\n",
    "    '姓名': ['张三', '李四', '王五', '赵六', '钱七'],\n",
    "    '数学': [85, 92, 78, 88, 95],\n",
    "    '英语': [90, 88, 85, 92, 80],\n",
    "    '物理': [75, 80, 88, 85, 90]\n",
    "}\n",
    "scores = pd.DataFrame(data)\n",
    "# 每位学生的总分\n",
    "scores['总分'] = scores[['数学','英语','物理']].sum(axis=1)\n",
    "# 每位学生的平均分\n",
    "scores['平均分'] = scores['总分'] / 3\n",
    "scores['平均分2'] = scores[['数学','英语','物理']].mean(axis=1)\n",
    "# 数学成绩高于90分或英语成绩高于85分的学生\n",
    "scores[(scores.数学 > 90) | (scores.英语 > 85)]\n",
    "# 总分从高到低排序，并输出前3名学生\n",
    "scores.sort_values('总分',ascending=False).head(3)\n",
    "scores.nlargest(3,columns=['总分'])"
   ],
   "id": "ca7cc8a1c11329de",
   "outputs": [
    {
     "data": {
      "text/plain": [
       "   姓名  数学  英语  物理   总分        平均分       平均分2\n",
       "3  赵六  88  92  85  265  88.333333  88.333333\n",
       "4  钱七  95  80  90  265  88.333333  88.333333\n",
       "1  李四  92  88  80  260  86.666667  86.666667"
      ],
      "text/html": [
       "<div>\n",
       "<style scoped>\n",
       "    .dataframe tbody tr th:only-of-type {\n",
       "        vertical-align: middle;\n",
       "    }\n",
       "\n",
       "    .dataframe tbody tr th {\n",
       "        vertical-align: top;\n",
       "    }\n",
       "\n",
       "    .dataframe thead th {\n",
       "        text-align: right;\n",
       "    }\n",
       "</style>\n",
       "<table border=\"1\" class=\"dataframe\">\n",
       "  <thead>\n",
       "    <tr style=\"text-align: right;\">\n",
       "      <th></th>\n",
       "      <th>姓名</th>\n",
       "      <th>数学</th>\n",
       "      <th>英语</th>\n",
       "      <th>物理</th>\n",
       "      <th>总分</th>\n",
       "      <th>平均分</th>\n",
       "      <th>平均分2</th>\n",
       "    </tr>\n",
       "  </thead>\n",
       "  <tbody>\n",
       "    <tr>\n",
       "      <th>3</th>\n",
       "      <td>赵六</td>\n",
       "      <td>88</td>\n",
       "      <td>92</td>\n",
       "      <td>85</td>\n",
       "      <td>265</td>\n",
       "      <td>88.333333</td>\n",
       "      <td>88.333333</td>\n",
       "    </tr>\n",
       "    <tr>\n",
       "      <th>4</th>\n",
       "      <td>钱七</td>\n",
       "      <td>95</td>\n",
       "      <td>80</td>\n",
       "      <td>90</td>\n",
       "      <td>265</td>\n",
       "      <td>88.333333</td>\n",
       "      <td>88.333333</td>\n",
       "    </tr>\n",
       "    <tr>\n",
       "      <th>1</th>\n",
       "      <td>李四</td>\n",
       "      <td>92</td>\n",
       "      <td>88</td>\n",
       "      <td>80</td>\n",
       "      <td>260</td>\n",
       "      <td>86.666667</td>\n",
       "      <td>86.666667</td>\n",
       "    </tr>\n",
       "  </tbody>\n",
       "</table>\n",
       "</div>"
      ]
     },
     "execution_count": 90,
     "metadata": {},
     "output_type": "execute_result"
    }
   ],
   "execution_count": 90
  },
  {
   "metadata": {
    "ExecuteTime": {
     "end_time": "2025-08-04T09:31:06.606963Z",
     "start_time": "2025-08-04T09:31:06.595253Z"
    }
   },
   "cell_type": "code",
   "source": [
    "'''\n",
    "案例2：销售数据分析\n",
    "场景：某公司销售数据如下，请完成以下任务：\n",
    "1. 计算每种产品的总销售额（销售额 = 单价 × 销量）。\n",
    "2. 找出销售额最高的产品。\n",
    "3. 按销售额从高到低排序，并输出所有产品信息。\n",
    "'''\n",
    "data = {\n",
    "    '产品名称': ['A', 'B', 'C', 'D'],\n",
    "    '单价': [100, 150, 200, 120],\n",
    "    '销量': [50, 30, 20, 40]\n",
    "}\n",
    "df = pd.DataFrame(data)\n",
    "df['总销售额'] = df['单价'] * df['销量']\n",
    "df\n",
    "df.nlargest(1,columns=['总销售额'])\n",
    "df.sort_values('总销售额',ascending=False)"
   ],
   "id": "d646e7b4c7c99b0f",
   "outputs": [
    {
     "data": {
      "text/plain": [
       "  产品名称   单价  销量  总销售额\n",
       "0    A  100  50  5000\n",
       "3    D  120  40  4800\n",
       "1    B  150  30  4500\n",
       "2    C  200  20  4000"
      ],
      "text/html": [
       "<div>\n",
       "<style scoped>\n",
       "    .dataframe tbody tr th:only-of-type {\n",
       "        vertical-align: middle;\n",
       "    }\n",
       "\n",
       "    .dataframe tbody tr th {\n",
       "        vertical-align: top;\n",
       "    }\n",
       "\n",
       "    .dataframe thead th {\n",
       "        text-align: right;\n",
       "    }\n",
       "</style>\n",
       "<table border=\"1\" class=\"dataframe\">\n",
       "  <thead>\n",
       "    <tr style=\"text-align: right;\">\n",
       "      <th></th>\n",
       "      <th>产品名称</th>\n",
       "      <th>单价</th>\n",
       "      <th>销量</th>\n",
       "      <th>总销售额</th>\n",
       "    </tr>\n",
       "  </thead>\n",
       "  <tbody>\n",
       "    <tr>\n",
       "      <th>0</th>\n",
       "      <td>A</td>\n",
       "      <td>100</td>\n",
       "      <td>50</td>\n",
       "      <td>5000</td>\n",
       "    </tr>\n",
       "    <tr>\n",
       "      <th>3</th>\n",
       "      <td>D</td>\n",
       "      <td>120</td>\n",
       "      <td>40</td>\n",
       "      <td>4800</td>\n",
       "    </tr>\n",
       "    <tr>\n",
       "      <th>1</th>\n",
       "      <td>B</td>\n",
       "      <td>150</td>\n",
       "      <td>30</td>\n",
       "      <td>4500</td>\n",
       "    </tr>\n",
       "    <tr>\n",
       "      <th>2</th>\n",
       "      <td>C</td>\n",
       "      <td>200</td>\n",
       "      <td>20</td>\n",
       "      <td>4000</td>\n",
       "    </tr>\n",
       "  </tbody>\n",
       "</table>\n",
       "</div>"
      ]
     },
     "execution_count": 96,
     "metadata": {},
     "output_type": "execute_result"
    }
   ],
   "execution_count": 96
  },
  {
   "metadata": {
    "ExecuteTime": {
     "end_time": "2025-08-04T09:36:16.761242Z",
     "start_time": "2025-08-04T09:36:16.747478Z"
    }
   },
   "cell_type": "code",
   "source": [
    "'''案例3：电商用户行为分析\n",
    "场景：某电商平台的用户行为数据如下，请完成以下任务：\n",
    "1. 计算每位用户的总消费金额（消费金额 = 商品单价 × 购买数量）\n",
    "2. 找出消费金额最高的用户，并输出其所有信息\n",
    "3. 计算所有用户的平均消费金额（保留2位小数）\n",
    "4. 统计电子产品的总购买数量\n",
    "'''\n",
    "data = {\n",
    "    '用户ID': [101, 102, 103, 104, 105],\n",
    "    '用户名': ['Alice', 'Bob', 'Charlie', 'David', 'Eve'],\n",
    "    '商品类别': ['电子产品', '服饰', '电子产品', '家居', '服饰'],\n",
    "    '商品单价': [1200, 300, 800, 150, 200],\n",
    "    '购买数量': [1, 3, 2, 5, 4]\n",
    "}\n",
    "df = pd.DataFrame(data)\n",
    "# 总消费金额\n",
    "df['总消费金额'] = df['商品单价'] * df['购买数量']\n",
    "# 消费金额最高的用户\n",
    "df.nlargest(1,columns=['总消费金额'])\n",
    "df['总消费金额'].mean()\n",
    "# 电子产品的总购买数量\n",
    "df[df['商品类别'] == '电子产品']['购买数量'].sum()\n",
    "df"
   ],
   "id": "a48a397d2ea0519",
   "outputs": [
    {
     "data": {
      "text/plain": [
       "   用户ID      用户名  商品类别  商品单价  购买数量  总消费金额\n",
       "0   101    Alice  电子产品  1200     1   1200\n",
       "1   102      Bob    服饰   300     3    900\n",
       "2   103  Charlie  电子产品   800     2   1600\n",
       "3   104    David    家居   150     5    750\n",
       "4   105      Eve    服饰   200     4    800"
      ],
      "text/html": [
       "<div>\n",
       "<style scoped>\n",
       "    .dataframe tbody tr th:only-of-type {\n",
       "        vertical-align: middle;\n",
       "    }\n",
       "\n",
       "    .dataframe tbody tr th {\n",
       "        vertical-align: top;\n",
       "    }\n",
       "\n",
       "    .dataframe thead th {\n",
       "        text-align: right;\n",
       "    }\n",
       "</style>\n",
       "<table border=\"1\" class=\"dataframe\">\n",
       "  <thead>\n",
       "    <tr style=\"text-align: right;\">\n",
       "      <th></th>\n",
       "      <th>用户ID</th>\n",
       "      <th>用户名</th>\n",
       "      <th>商品类别</th>\n",
       "      <th>商品单价</th>\n",
       "      <th>购买数量</th>\n",
       "      <th>总消费金额</th>\n",
       "    </tr>\n",
       "  </thead>\n",
       "  <tbody>\n",
       "    <tr>\n",
       "      <th>0</th>\n",
       "      <td>101</td>\n",
       "      <td>Alice</td>\n",
       "      <td>电子产品</td>\n",
       "      <td>1200</td>\n",
       "      <td>1</td>\n",
       "      <td>1200</td>\n",
       "    </tr>\n",
       "    <tr>\n",
       "      <th>1</th>\n",
       "      <td>102</td>\n",
       "      <td>Bob</td>\n",
       "      <td>服饰</td>\n",
       "      <td>300</td>\n",
       "      <td>3</td>\n",
       "      <td>900</td>\n",
       "    </tr>\n",
       "    <tr>\n",
       "      <th>2</th>\n",
       "      <td>103</td>\n",
       "      <td>Charlie</td>\n",
       "      <td>电子产品</td>\n",
       "      <td>800</td>\n",
       "      <td>2</td>\n",
       "      <td>1600</td>\n",
       "    </tr>\n",
       "    <tr>\n",
       "      <th>3</th>\n",
       "      <td>104</td>\n",
       "      <td>David</td>\n",
       "      <td>家居</td>\n",
       "      <td>150</td>\n",
       "      <td>5</td>\n",
       "      <td>750</td>\n",
       "    </tr>\n",
       "    <tr>\n",
       "      <th>4</th>\n",
       "      <td>105</td>\n",
       "      <td>Eve</td>\n",
       "      <td>服饰</td>\n",
       "      <td>200</td>\n",
       "      <td>4</td>\n",
       "      <td>800</td>\n",
       "    </tr>\n",
       "  </tbody>\n",
       "</table>\n",
       "</div>"
      ]
     },
     "execution_count": 104,
     "metadata": {},
     "output_type": "execute_result"
    }
   ],
   "execution_count": 104
  }
 ],
 "metadata": {
  "kernelspec": {
   "display_name": "Python 3",
   "language": "python",
   "name": "python3"
  },
  "language_info": {
   "codemirror_mode": {
    "name": "ipython",
    "version": 2
   },
   "file_extension": ".py",
   "mimetype": "text/x-python",
   "name": "python",
   "nbconvert_exporter": "python",
   "pygments_lexer": "ipython2",
   "version": "2.7.6"
  }
 },
 "nbformat": 4,
 "nbformat_minor": 5
}
