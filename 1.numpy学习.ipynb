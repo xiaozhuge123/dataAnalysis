{
 "cells": [
  {
   "metadata": {},
   "cell_type": "markdown",
   "source": [
    "# 一、ndarray\n",
    "## 1、ndarray的特性\n",
    "### 多维性"
   ],
   "id": "95a52310c06a18cd"
  },
  {
   "metadata": {
    "ExecuteTime": {
     "end_time": "2025-07-31T03:23:27.976496Z",
     "start_time": "2025-07-31T03:23:27.886774Z"
    }
   },
   "cell_type": "code",
   "source": "import numpy as np",
   "id": "852993992ffe1a35",
   "outputs": [],
   "execution_count": 3
  },
  {
   "metadata": {
    "ExecuteTime": {
     "end_time": "2025-07-31T03:23:30.017337Z",
     "start_time": "2025-07-31T03:23:30.011004Z"
    }
   },
   "cell_type": "code",
   "source": [
    "arr = np.array(5) # 创建0维的ndarray数组\n",
    "print(arr)\n",
    "print('arr的维度：',arr.ndim)"
   ],
   "id": "1f2f319d41eced29",
   "outputs": [
    {
     "name": "stdout",
     "output_type": "stream",
     "text": [
      "5\n",
      "arr的维度： 0\n"
     ]
    }
   ],
   "execution_count": 4
  },
  {
   "metadata": {
    "ExecuteTime": {
     "end_time": "2025-07-31T03:23:33.396533Z",
     "start_time": "2025-07-31T03:23:33.389348Z"
    }
   },
   "cell_type": "code",
   "source": [
    "arr = np.array([1,2,3]) # 创建1维的ndarray数组\n",
    "print(arr)\n",
    "print('arr的维度：',arr.ndim)"
   ],
   "id": "ad127e84bfe8b889",
   "outputs": [
    {
     "name": "stdout",
     "output_type": "stream",
     "text": [
      "[1 2 3]\n",
      "arr的维度： 1\n"
     ]
    }
   ],
   "execution_count": 5
  },
  {
   "metadata": {
    "ExecuteTime": {
     "end_time": "2025-07-31T03:23:35.957674Z",
     "start_time": "2025-07-31T03:23:35.949811Z"
    }
   },
   "cell_type": "code",
   "source": [
    "arr = np.array([[1,2,3],[4,5,6]]) # 创建2维的ndarray数组\n",
    "print(arr)\n",
    "print('arr的维度：',arr.ndim)"
   ],
   "id": "30480423f0953bd0",
   "outputs": [
    {
     "name": "stdout",
     "output_type": "stream",
     "text": [
      "[[1 2 3]\n",
      " [4 5 6]]\n",
      "arr的维度： 2\n"
     ]
    }
   ],
   "execution_count": 6
  },
  {
   "metadata": {},
   "cell_type": "markdown",
   "source": "### 同质性\n",
   "id": "a777b2c2212ea553"
  },
  {
   "metadata": {
    "ExecuteTime": {
     "end_time": "2025-07-31T03:25:22.093979Z",
     "start_time": "2025-07-31T03:25:22.087607Z"
    }
   },
   "cell_type": "code",
   "source": [
    "arr = np.array([1,'hello']) # 不同的数据类型会被强制转换成相同的数据类型\n",
    "print(arr)"
   ],
   "id": "bfbfa5ee5f7b07a1",
   "outputs": [
    {
     "name": "stdout",
     "output_type": "stream",
     "text": [
      "['1' 'hello']\n"
     ]
    }
   ],
   "execution_count": 7
  },
  {
   "metadata": {
    "ExecuteTime": {
     "end_time": "2025-07-31T03:25:49.875217Z",
     "start_time": "2025-07-31T03:25:49.870003Z"
    }
   },
   "cell_type": "code",
   "source": [
    "arr = np.array([1,2.5])\n",
    "print(arr)"
   ],
   "id": "59c54987fcb0e893",
   "outputs": [
    {
     "name": "stdout",
     "output_type": "stream",
     "text": [
      "[1.  2.5]\n"
     ]
    }
   ],
   "execution_count": 8
  },
  {
   "metadata": {},
   "cell_type": "markdown",
   "source": "## 2、ndarray的属性",
   "id": "5ce32a481c6249c6"
  },
  {
   "metadata": {
    "ExecuteTime": {
     "end_time": "2025-07-31T03:46:50.203293Z",
     "start_time": "2025-07-31T03:46:50.196530Z"
    }
   },
   "cell_type": "code",
   "source": [
    "arr = np.array(1)\n",
    "print(arr)\n",
    "print(arr.shape)\n",
    "print(arr.size)\n",
    "print(arr.dtype)\n",
    "print(arr.itemsize)\n",
    "print(arr.T)"
   ],
   "id": "a9adf7981c108511",
   "outputs": [
    {
     "name": "stdout",
     "output_type": "stream",
     "text": [
      "1\n",
      "()\n",
      "1\n",
      "int64\n",
      "8\n",
      "1\n"
     ]
    }
   ],
   "execution_count": 9
  },
  {
   "metadata": {
    "ExecuteTime": {
     "end_time": "2025-07-31T03:47:29.813791Z",
     "start_time": "2025-07-31T03:47:29.808145Z"
    }
   },
   "cell_type": "code",
   "source": [
    "arr = np.array([1,2,3,4,5])\n",
    "print(arr)\n",
    "print(arr.shape)\n",
    "print(arr.size)\n",
    "print(arr.dtype)\n",
    "print(arr.itemsize)\n",
    "print(arr.T)"
   ],
   "id": "c8204b131de88598",
   "outputs": [
    {
     "name": "stdout",
     "output_type": "stream",
     "text": [
      "[1 2 3 4 5]\n",
      "(5,)\n",
      "5\n",
      "int64\n",
      "8\n",
      "[1 2 3 4 5]\n"
     ]
    }
   ],
   "execution_count": 10
  },
  {
   "metadata": {
    "ExecuteTime": {
     "end_time": "2025-07-31T03:48:19.078103Z",
     "start_time": "2025-07-31T03:48:19.070526Z"
    }
   },
   "cell_type": "code",
   "source": [
    "arr = np.array([[1,2,3,4,5],[2,3,4,5,6]])\n",
    "print(arr)\n",
    "print(arr.shape)\n",
    "print(arr.size)\n",
    "print(arr.dtype)\n",
    "print(arr.itemsize)\n",
    "print(arr.T)"
   ],
   "id": "d76bd41a3876b0eb",
   "outputs": [
    {
     "name": "stdout",
     "output_type": "stream",
     "text": [
      "[[1 2 3 4 5]\n",
      " [2 3 4 5 6]]\n",
      "(2, 5)\n",
      "10\n",
      "int64\n",
      "8\n",
      "[[1 2]\n",
      " [2 3]\n",
      " [3 4]\n",
      " [4 5]\n",
      " [5 6]]\n"
     ]
    }
   ],
   "execution_count": 11
  },
  {
   "metadata": {},
   "cell_type": "markdown",
   "source": "## 3、ndarray的创建",
   "id": "f9139a9f371131e0"
  },
  {
   "metadata": {
    "ExecuteTime": {
     "end_time": "2025-07-31T12:35:23.190580Z",
     "start_time": "2025-07-31T12:35:23.176364Z"
    }
   },
   "cell_type": "code",
   "source": [
    "# 基础的创建方法\n",
    "list1 = [1,2,3]\n",
    "arr = np.array(list1,dtype=np.float64)\n",
    "print(arr)\n",
    "print(arr.ndim)"
   ],
   "id": "963a6bc33145ec94",
   "outputs": [
    {
     "name": "stdout",
     "output_type": "stream",
     "text": [
      "[1. 2. 3.]\n",
      "1\n"
     ]
    }
   ],
   "execution_count": 14
  },
  {
   "metadata": {
    "ExecuteTime": {
     "end_time": "2025-07-31T12:36:43.389486Z",
     "start_time": "2025-07-31T12:36:43.382002Z"
    }
   },
   "cell_type": "code",
   "source": [
    "# copy\n",
    "arr1 = np.copy(arr) # 元素跟原始的数组相同，但是不是一个数组了\n",
    "print(arr1)\n",
    "arr1[0] = 8\n",
    "print(arr1)\n",
    "print(arr)"
   ],
   "id": "fa16aa00c54443ba",
   "outputs": [
    {
     "name": "stdout",
     "output_type": "stream",
     "text": [
      "[1. 2. 3.]\n",
      "[8. 2. 3.]\n",
      "[1. 2. 3.]\n"
     ]
    }
   ],
   "execution_count": 16
  },
  {
   "metadata": {
    "ExecuteTime": {
     "end_time": "2025-07-31T13:18:37.524334Z",
     "start_time": "2025-07-31T13:18:37.514296Z"
    }
   },
   "cell_type": "code",
   "source": [
    "# 预定义形状\n",
    "# 全0 全1 未初始化 固定值\n",
    "# 全0\n",
    "arr = np.zeros((2,3),dtype=int)\n",
    "print(arr)\n",
    "print(arr.dtype)"
   ],
   "id": "b23921574b81738a",
   "outputs": [
    {
     "name": "stdout",
     "output_type": "stream",
     "text": [
      "[[0 0 0]\n",
      " [0 0 0]]\n",
      "int64\n"
     ]
    }
   ],
   "execution_count": 17
  },
  {
   "metadata": {
    "ExecuteTime": {
     "end_time": "2025-07-31T13:19:45.964043Z",
     "start_time": "2025-07-31T13:19:45.957915Z"
    }
   },
   "cell_type": "code",
   "source": [
    "arr = np.zeros((200,),dtype=int)\n",
    "print(arr)"
   ],
   "id": "ab8ea6fe5479f807",
   "outputs": [
    {
     "name": "stdout",
     "output_type": "stream",
     "text": [
      "[0 0 0 0 0 0 0 0 0 0 0 0 0 0 0 0 0 0 0 0 0 0 0 0 0 0 0 0 0 0 0 0 0 0 0 0 0\n",
      " 0 0 0 0 0 0 0 0 0 0 0 0 0 0 0 0 0 0 0 0 0 0 0 0 0 0 0 0 0 0 0 0 0 0 0 0 0\n",
      " 0 0 0 0 0 0 0 0 0 0 0 0 0 0 0 0 0 0 0 0 0 0 0 0 0 0 0 0 0 0 0 0 0 0 0 0 0\n",
      " 0 0 0 0 0 0 0 0 0 0 0 0 0 0 0 0 0 0 0 0 0 0 0 0 0 0 0 0 0 0 0 0 0 0 0 0 0\n",
      " 0 0 0 0 0 0 0 0 0 0 0 0 0 0 0 0 0 0 0 0 0 0 0 0 0 0 0 0 0 0 0 0 0 0 0 0 0\n",
      " 0 0 0 0 0 0 0 0 0 0 0 0 0 0 0]\n"
     ]
    }
   ],
   "execution_count": 19
  },
  {
   "metadata": {
    "ExecuteTime": {
     "end_time": "2025-07-31T13:21:38.632512Z",
     "start_time": "2025-07-31T13:21:38.626896Z"
    }
   },
   "cell_type": "code",
   "source": [
    "# 全1\n",
    "arr = np.ones((5,8),dtype=int)\n",
    "print(arr)"
   ],
   "id": "c05ef19140147d08",
   "outputs": [
    {
     "name": "stdout",
     "output_type": "stream",
     "text": [
      "[[1 1 1 1 1 1 1 1]\n",
      " [1 1 1 1 1 1 1 1]\n",
      " [1 1 1 1 1 1 1 1]\n",
      " [1 1 1 1 1 1 1 1]\n",
      " [1 1 1 1 1 1 1 1]]\n"
     ]
    }
   ],
   "execution_count": 27
  },
  {
   "metadata": {
    "ExecuteTime": {
     "end_time": "2025-07-31T13:22:30.538742Z",
     "start_time": "2025-07-31T13:22:30.533992Z"
    }
   },
   "cell_type": "code",
   "source": [
    "# 未初始化\n",
    "arr = np.empty((2,3))\n",
    "print(arr)"
   ],
   "id": "47cb8cc4cc801b81",
   "outputs": [
    {
     "name": "stdout",
     "output_type": "stream",
     "text": [
      "[[0. 0. 0.]\n",
      " [0. 0. 0.]]\n"
     ]
    }
   ],
   "execution_count": 28
  },
  {
   "metadata": {
    "ExecuteTime": {
     "end_time": "2025-07-31T13:22:51.785709Z",
     "start_time": "2025-07-31T13:22:51.779648Z"
    }
   },
   "cell_type": "code",
   "source": [
    "arr = np.empty((4,2))\n",
    "print(arr)"
   ],
   "id": "ae4de8edc6199802",
   "outputs": [
    {
     "name": "stdout",
     "output_type": "stream",
     "text": [
      "[[0. 0.]\n",
      " [0. 0.]\n",
      " [0. 0.]\n",
      " [0. 0.]]\n"
     ]
    }
   ],
   "execution_count": 29
  },
  {
   "metadata": {
    "ExecuteTime": {
     "end_time": "2025-07-31T13:23:29.117736Z",
     "start_time": "2025-07-31T13:23:29.112766Z"
    }
   },
   "cell_type": "code",
   "source": [
    "arr = np.full((3,4),2025)\n",
    "print(arr)"
   ],
   "id": "206600c80c9edd1",
   "outputs": [
    {
     "name": "stdout",
     "output_type": "stream",
     "text": [
      "[[2025 2025 2025 2025]\n",
      " [2025 2025 2025 2025]\n",
      " [2025 2025 2025 2025]]\n"
     ]
    }
   ],
   "execution_count": 30
  },
  {
   "metadata": {
    "ExecuteTime": {
     "end_time": "2025-07-31T14:13:06.164799Z",
     "start_time": "2025-07-31T14:13:06.158087Z"
    }
   },
   "cell_type": "code",
   "source": [
    "arr1 = np.zeros_like(arr)\n",
    "print(arr1)\n",
    "arr1 = np.empty_like(arr)\n",
    "print(arr1)\n",
    "arr1 = np.ones_like(arr)\n",
    "print(arr1)\n",
    "arr1 = np.full_like(arr,2026)\n",
    "print(arr1)"
   ],
   "id": "43514b0baeb7db5c",
   "outputs": [
    {
     "name": "stdout",
     "output_type": "stream",
     "text": [
      "[[0 0 0 0]\n",
      " [0 0 0 0]\n",
      " [0 0 0 0]]\n",
      "[[1 1 1 1]\n",
      " [1 1 1 1]\n",
      " [1 1 1 1]]\n",
      "[[1 1 1 1]\n",
      " [1 1 1 1]\n",
      " [1 1 1 1]]\n",
      "[[2026 2026 2026 2026]\n",
      " [2026 2026 2026 2026]\n",
      " [2026 2026 2026 2026]]\n"
     ]
    }
   ],
   "execution_count": 34
  },
  {
   "metadata": {
    "ExecuteTime": {
     "end_time": "2025-07-31T14:14:05.067380Z",
     "start_time": "2025-07-31T14:14:05.061726Z"
    }
   },
   "cell_type": "code",
   "source": [
    "# 等差数列\n",
    "arr = np.arange(1,50,2)\n",
    "print(arr)"
   ],
   "id": "50d171f49e162738",
   "outputs": [
    {
     "name": "stdout",
     "output_type": "stream",
     "text": [
      "[ 1  3  5  7  9 11 13 15 17 19 21 23 25 27 29 31 33 35 37 39 41 43 45 47\n",
      " 49]\n"
     ]
    }
   ],
   "execution_count": 36
  },
  {
   "metadata": {
    "ExecuteTime": {
     "end_time": "2025-07-31T14:14:57.756608Z",
     "start_time": "2025-07-31T14:14:57.751068Z"
    }
   },
   "cell_type": "code",
   "source": [
    "# 等间隔数列\n",
    "arr = np.linspace(0,100,5)\n",
    "print(arr)"
   ],
   "id": "bab373fa6700f870",
   "outputs": [
    {
     "name": "stdout",
     "output_type": "stream",
     "text": [
      "[  0.  25.  50.  75. 100.]\n"
     ]
    }
   ],
   "execution_count": 37
  },
  {
   "metadata": {
    "ExecuteTime": {
     "end_time": "2025-07-31T14:21:35.674671Z",
     "start_time": "2025-07-31T14:21:35.668918Z"
    }
   },
   "cell_type": "code",
   "source": [
    "arr = np.linspace(0,100,5,dtype=int)\n",
    "print(arr)\n",
    "arr = np.arange(0,101,25)\n",
    "print(arr)"
   ],
   "id": "5332640a2e75cb00",
   "outputs": [
    {
     "name": "stdout",
     "output_type": "stream",
     "text": [
      "[  0  25  50  75 100]\n",
      "[  0  25  50  75 100]\n"
     ]
    }
   ],
   "execution_count": 39
  },
  {
   "metadata": {
    "ExecuteTime": {
     "end_time": "2025-07-31T14:27:14.220366Z",
     "start_time": "2025-07-31T14:27:14.215937Z"
    }
   },
   "cell_type": "code",
   "source": [
    "# 对数间隔数列\n",
    "arr = np.logspace(0,4,3,base=2)\n",
    "print(arr)"
   ],
   "id": "7869590f0bd45c83",
   "outputs": [
    {
     "name": "stdout",
     "output_type": "stream",
     "text": [
      "[ 1.  4. 16.]\n"
     ]
    }
   ],
   "execution_count": 51
  },
  {
   "metadata": {
    "ExecuteTime": {
     "end_time": "2025-07-31T14:26:16.162388Z",
     "start_time": "2025-07-31T14:26:16.157587Z"
    }
   },
   "cell_type": "code",
   "source": [
    "arr = np.linspace(0,4,3)\n",
    "print(arr)"
   ],
   "id": "848b165c542a5a85",
   "outputs": [
    {
     "name": "stdout",
     "output_type": "stream",
     "text": [
      "[0. 2. 4.]\n"
     ]
    }
   ],
   "execution_count": 48
  },
  {
   "metadata": {
    "ExecuteTime": {
     "end_time": "2025-07-31T14:28:28.057059Z",
     "start_time": "2025-07-31T14:28:28.052058Z"
    }
   },
   "cell_type": "code",
   "source": [
    "arr = np.logspace(0,4,3,dtype=int)\n",
    "print(arr)"
   ],
   "id": "d449a369fb1d58ce",
   "outputs": [
    {
     "name": "stdout",
     "output_type": "stream",
     "text": [
      "[    1   100 10000]\n"
     ]
    }
   ],
   "execution_count": 54
  },
  {
   "metadata": {
    "ExecuteTime": {
     "end_time": "2025-07-31T14:33:47.020543Z",
     "start_time": "2025-07-31T14:33:47.016033Z"
    }
   },
   "cell_type": "code",
   "source": [
    "# 特殊矩阵\n",
    "# 单位矩阵，主对角线上的数字为1，其他数字为0\n",
    "arr = np.eye(5,5,dtype=int)\n",
    "print(arr)"
   ],
   "id": "1591b5db2ef8b5a2",
   "outputs": [
    {
     "name": "stdout",
     "output_type": "stream",
     "text": [
      "[[1 0 0 0 0]\n",
      " [0 1 0 0 0]\n",
      " [0 0 1 0 0]\n",
      " [0 0 0 1 0]\n",
      " [0 0 0 0 1]]\n"
     ]
    }
   ],
   "execution_count": 57
  },
  {
   "metadata": {
    "ExecuteTime": {
     "end_time": "2025-07-31T14:35:21.367551Z",
     "start_time": "2025-07-31T14:35:21.358754Z"
    }
   },
   "cell_type": "code",
   "source": [
    "# 对角矩阵，主对角线上非0的0，其他位置为0\n",
    "arr = np.diag([4,5,6,7])\n",
    "print(arr)"
   ],
   "id": "cfd5993690b4fb16",
   "outputs": [
    {
     "name": "stdout",
     "output_type": "stream",
     "text": [
      "[[4 0 0 0]\n",
      " [0 5 0 0]\n",
      " [0 0 6 0]\n",
      " [0 0 0 7]]\n"
     ]
    }
   ],
   "execution_count": 58
  },
  {
   "metadata": {
    "ExecuteTime": {
     "end_time": "2025-07-31T14:37:11.966411Z",
     "start_time": "2025-07-31T14:37:11.961393Z"
    }
   },
   "cell_type": "code",
   "source": [
    "# 随机数组的生成\n",
    "# 生成0到1之间的随机浮点数（均匀分布）\n",
    "arr = np.random.rand(2,3)\n",
    "print(arr)"
   ],
   "id": "ade4f20eec450c31",
   "outputs": [
    {
     "name": "stdout",
     "output_type": "stream",
     "text": [
      "[[0.57545469 0.31155731 0.80122852]\n",
      " [0.1085039  0.54063122 0.91364353]]\n"
     ]
    }
   ],
   "execution_count": 63
  },
  {
   "metadata": {
    "ExecuteTime": {
     "end_time": "2025-07-31T14:38:37.345321Z",
     "start_time": "2025-07-31T14:38:37.340503Z"
    }
   },
   "cell_type": "code",
   "source": [
    "# 生成指定范围区间的随机浮点数\n",
    "arr = np.random.uniform(3,6,(2,3))\n",
    "print(arr)"
   ],
   "id": "b2272a81e64f5ccd",
   "outputs": [
    {
     "name": "stdout",
     "output_type": "stream",
     "text": [
      "[[4.48329373 5.01687861 3.78802128]\n",
      " [3.29392282 3.45736821 4.07622762]]\n"
     ]
    }
   ],
   "execution_count": 68
  },
  {
   "metadata": {
    "ExecuteTime": {
     "end_time": "2025-07-31T14:39:50.590691Z",
     "start_time": "2025-07-31T14:39:50.586246Z"
    }
   },
   "cell_type": "code",
   "source": [
    "# 生成指定区间的随机整数\n",
    "arr = np.random.randint(1,11,(2,3))\n",
    "print(arr)"
   ],
   "id": "163637f773188536",
   "outputs": [
    {
     "name": "stdout",
     "output_type": "stream",
     "text": [
      "[[4 4 5]\n",
      " [6 7 3]]\n"
     ]
    }
   ],
   "execution_count": 88
  },
  {
   "metadata": {
    "ExecuteTime": {
     "end_time": "2025-07-31T14:42:00.362289Z",
     "start_time": "2025-07-31T14:42:00.356446Z"
    }
   },
   "cell_type": "code",
   "source": [
    "# 生成随机数列（正太分布）\n",
    "arr = np.random.randn(2,3)\n",
    "print(arr)\n",
    "arr = np.random.random(3)\n",
    "print(arr)"
   ],
   "id": "bf904208f733ff1b",
   "outputs": [
    {
     "name": "stdout",
     "output_type": "stream",
     "text": [
      "[[-0.14539056 -1.08806522  0.06027999]\n",
      " [ 0.30256103 -1.42297368  0.29682605]]\n",
      "[0.59460639 0.72471907 0.79677609]\n"
     ]
    }
   ],
   "execution_count": 94
  },
  {
   "metadata": {
    "ExecuteTime": {
     "end_time": "2025-07-31T14:44:16.003364Z",
     "start_time": "2025-07-31T14:44:15.997740Z"
    }
   },
   "cell_type": "code",
   "source": [
    "# 设置随机种子\n",
    "np.random.seed(0)\n",
    "arr = np.random.randint(1,10,(2,5))\n",
    "print(arr)\n",
    "arr = np.array([1,2,3],dtype='i8')\n",
    "print(arr)"
   ],
   "id": "233f24eadccef8cf",
   "outputs": [
    {
     "name": "stdout",
     "output_type": "stream",
     "text": [
      "[[6 1 4 4 8]\n",
      " [4 6 3 5 8]]\n",
      "[1 2 3]\n"
     ]
    }
   ],
   "execution_count": 166
  },
  {
   "metadata": {},
   "cell_type": "markdown",
   "source": [
    "### 4、ndarray的数据类型\n",
    "### 布尔类型bool\n",
    "### 整数类型int uint\n",
    "### 浮点数float\n",
    "### 复数complex"
   ],
   "id": "745f3e83dee8f46a"
  },
  {
   "metadata": {
    "ExecuteTime": {
     "end_time": "2025-07-31T14:46:56.398743Z",
     "start_time": "2025-07-31T14:46:56.394105Z"
    }
   },
   "cell_type": "code",
   "source": [
    "arr = np.array([1,2,3],dtype=np.int8)\n",
    "print(arr)"
   ],
   "id": "62af102c2e0a907f",
   "outputs": [
    {
     "name": "stdout",
     "output_type": "stream",
     "text": [
      "[1 2 3]\n"
     ]
    }
   ],
   "execution_count": 167
  },
  {
   "metadata": {},
   "cell_type": "markdown",
   "source": "### 5、索引与切片",
   "id": "c3c528b9f63c78c5"
  },
  {
   "metadata": {
    "ExecuteTime": {
     "end_time": "2025-07-31T14:48:13.840181Z",
     "start_time": "2025-07-31T14:48:13.833308Z"
    }
   },
   "cell_type": "code",
   "source": [
    "# 一维数组的索引与切片\n",
    "arr = np.random.randint(1,100,20) # 生成1-100的随机整数20个\n",
    "print(arr)"
   ],
   "id": "b4269ba0c37cc12",
   "outputs": [
    {
     "name": "stdout",
     "output_type": "stream",
     "text": [
      "[71 89 89 13 59 66 40 88 47 89 82 38 26 78 73 10 21 81 70 80]\n"
     ]
    }
   ],
   "execution_count": 168
  },
  {
   "metadata": {
    "ExecuteTime": {
     "end_time": "2025-07-31T14:54:39.560472Z",
     "start_time": "2025-07-31T14:54:39.553455Z"
    }
   },
   "cell_type": "code",
   "source": [
    "print(arr[10]) # 获取索引为10位置的数据\n",
    "print(arr[:]) # 获取全部数据\n",
    "print(arr[2:5]) # 左包右不包\n",
    "print(slice(2,15,3)) # start,end,step\n",
    "print(arr[slice(2,15,3)])\n",
    "print(arr[(arr > 10) & (arr < 70)]) # 布尔索引\n",
    "print((arr > 10) & (arr < 70))"
   ],
   "id": "9f21a311f560951e",
   "outputs": [
    {
     "name": "stdout",
     "output_type": "stream",
     "text": [
      "82\n",
      "[71 89 89 13 59 66 40 88 47 89 82 38 26 78 73 10 21 81 70 80]\n",
      "[89 13 59]\n",
      "slice(2, 15, 3)\n",
      "[89 66 47 38 73]\n",
      "[13 59 66 40 47 38 26 21]\n",
      "[False False False  True  True  True  True False  True False False  True\n",
      "  True False False False  True False False False]\n"
     ]
    }
   ],
   "execution_count": 172
  },
  {
   "metadata": {
    "ExecuteTime": {
     "end_time": "2025-07-31T14:56:17.344335Z",
     "start_time": "2025-07-31T14:56:17.339246Z"
    }
   },
   "cell_type": "code",
   "source": [
    "# 二维数组的索引与切片\n",
    "arr = np.random.randint(1,100,(4,8))\n",
    "print(arr)"
   ],
   "id": "2c00879aa9ce78bf",
   "outputs": [
    {
     "name": "stdout",
     "output_type": "stream",
     "text": [
      "[[48 65 83 89 50 30 20 20]\n",
      " [15 40 33 66 10 58 33 32]\n",
      " [75 24 36 76 56 29 35  1]\n",
      " [ 1 37 54  6 39 18 80  5]]\n"
     ]
    }
   ],
   "execution_count": 173
  },
  {
   "metadata": {
    "ExecuteTime": {
     "end_time": "2025-07-31T14:59:57.998029Z",
     "start_time": "2025-07-31T14:59:57.992430Z"
    }
   },
   "cell_type": "code",
   "source": [
    "print(arr[1,3]) # 索引\n",
    "print(arr[1,2:5])\n",
    "print(arr[2][arr[2] > 50])\n",
    "print(arr[:,3])"
   ],
   "id": "cab1a5102c203110",
   "outputs": [
    {
     "name": "stdout",
     "output_type": "stream",
     "text": [
      "66\n",
      "[33 66 10]\n",
      "[75 76 56]\n",
      "[89 66 76  6]\n"
     ]
    }
   ],
   "execution_count": 177
  },
  {
   "metadata": {},
   "cell_type": "markdown",
   "source": "### 5、ndarray的运算",
   "id": "e32e185534233a1b"
  },
  {
   "metadata": {
    "ExecuteTime": {
     "end_time": "2025-07-31T15:04:47.545381Z",
     "start_time": "2025-07-31T15:04:47.535709Z"
    }
   },
   "cell_type": "code",
   "source": [
    "# 算数运算\n",
    "a = np.array([1,2,3])\n",
    "b = np.array([4,5,6])\n",
    "print(a+b)\n",
    "print(a-b)\n",
    "print(a*b)\n",
    "print(a/b)\n",
    "print(a**2)"
   ],
   "id": "26c5fa13ee7b5ebc",
   "outputs": [
    {
     "name": "stdout",
     "output_type": "stream",
     "text": [
      "[5 7 9]\n",
      "[-3 -3 -3]\n",
      "[ 4 10 18]\n",
      "[0.25 0.4  0.5 ]\n",
      "[1 4 9]\n"
     ]
    }
   ],
   "execution_count": 178
  },
  {
   "metadata": {
    "ExecuteTime": {
     "end_time": "2025-07-31T15:06:49.763453Z",
     "start_time": "2025-07-31T15:06:49.755147Z"
    }
   },
   "cell_type": "code",
   "source": [
    "c = [1,2,3]\n",
    "d = [4,5,6]\n",
    "print(c+d)\n",
    "for i in range(len(c)):\n",
    "    d[i] = c[i] * d[i]\n",
    "print(d)"
   ],
   "id": "dbea544c7d881229",
   "outputs": [
    {
     "name": "stdout",
     "output_type": "stream",
     "text": [
      "[1, 2, 3, 4, 5, 6]\n",
      "[4, 10, 18]\n"
     ]
    }
   ],
   "execution_count": 181
  },
  {
   "metadata": {
    "ExecuteTime": {
     "end_time": "2025-07-31T15:14:23.090468Z",
     "start_time": "2025-07-31T15:14:23.082583Z"
    }
   },
   "cell_type": "code",
   "source": [
    "a = np.array([[1,2,3],[4,5,6],[7,8,9]])\n",
    "b = np.array([[4,5,6],[7,8,9],[1,2,3]])\n",
    "print(a+b)\n",
    "print(a-b)\n",
    "print(a*b)\n",
    "print(a/b)\n",
    "print(a**2)"
   ],
   "id": "9874a7272ae38435",
   "outputs": [
    {
     "name": "stdout",
     "output_type": "stream",
     "text": [
      "[[ 5  7  9]\n",
      " [11 13 15]\n",
      " [ 8 10 12]]\n",
      "[[-3 -3 -3]\n",
      " [-3 -3 -3]\n",
      " [ 6  6  6]]\n",
      "[[ 4 10 18]\n",
      " [28 40 54]\n",
      " [ 7 16 27]]\n",
      "[[0.25       0.4        0.5       ]\n",
      " [0.57142857 0.625      0.66666667]\n",
      " [7.         4.         3.        ]]\n",
      "[[ 1  4  9]\n",
      " [16 25 36]\n",
      " [49 64 81]]\n"
     ]
    }
   ],
   "execution_count": 184
  },
  {
   "metadata": {
    "ExecuteTime": {
     "end_time": "2025-07-31T15:17:53.037064Z",
     "start_time": "2025-07-31T15:17:53.030597Z"
    }
   },
   "cell_type": "code",
   "source": [
    "# 数组与标量之间的算术运算\n",
    "a = np.array([[1,2,3],[4,5,6],[7,8,9]])\n",
    "print(a + 3)\n",
    "print(a - 3)\n",
    "print(a * 3)\n",
    "print(a / 3)"
   ],
   "id": "48e6ee8217a84ce0",
   "outputs": [
    {
     "name": "stdout",
     "output_type": "stream",
     "text": [
      "[[ 4  5  6]\n",
      " [ 7  8  9]\n",
      " [10 11 12]]\n",
      "[[-2 -1  0]\n",
      " [ 1  2  3]\n",
      " [ 4  5  6]]\n",
      "[[ 3  6  9]\n",
      " [12 15 18]\n",
      " [21 24 27]]\n",
      "[[0.33333333 0.66666667 1.        ]\n",
      " [1.33333333 1.66666667 2.        ]\n",
      " [2.33333333 2.66666667 3.        ]]\n"
     ]
    }
   ],
   "execution_count": 186
  },
  {
   "metadata": {
    "ExecuteTime": {
     "end_time": "2025-07-31T15:28:44.583346Z",
     "start_time": "2025-07-31T15:28:44.577269Z"
    }
   },
   "cell_type": "code",
   "source": [
    "# 广播机制：1、获取形状 2、是否可广播\n",
    "# 同一维度：相同、1\n",
    "a = np.array([1,2,3])\n",
    "b = np.array([[4],[5],[6]])\n",
    "print(a + b)\n",
    "print(b - a)"
   ],
   "id": "676831aec3462e56",
   "outputs": [
    {
     "name": "stdout",
     "output_type": "stream",
     "text": [
      "[[5 6 7]\n",
      " [6 7 8]\n",
      " [7 8 9]]\n",
      "[[3 2 1]\n",
      " [4 3 2]\n",
      " [5 4 3]]\n"
     ]
    }
   ],
   "execution_count": 188
  },
  {
   "metadata": {
    "ExecuteTime": {
     "end_time": "2025-07-31T15:45:14.913898Z",
     "start_time": "2025-07-31T15:45:14.874328Z"
    }
   },
   "cell_type": "code",
   "source": [
    "a = np.array([1,2,3]) #1*3\n",
    "b = np.array([4,5])  #1*2\n",
    "print(b - a )"
   ],
   "id": "fafbe84149764133",
   "outputs": [
    {
     "ename": "ValueError",
     "evalue": "operands could not be broadcast together with shapes (2,) (3,) ",
     "output_type": "error",
     "traceback": [
      "\u001B[31m---------------------------------------------------------------------------\u001B[39m",
      "\u001B[31mValueError\u001B[39m                                Traceback (most recent call last)",
      "\u001B[36mCell\u001B[39m\u001B[36m \u001B[39m\u001B[32mIn[189]\u001B[39m\u001B[32m, line 3\u001B[39m\n\u001B[32m      1\u001B[39m a = np.array([\u001B[32m1\u001B[39m,\u001B[32m2\u001B[39m,\u001B[32m3\u001B[39m]) \u001B[38;5;66;03m#1*3\u001B[39;00m\n\u001B[32m      2\u001B[39m b = np.array([\u001B[32m4\u001B[39m,\u001B[32m5\u001B[39m])  \u001B[38;5;66;03m#1*2\u001B[39;00m\n\u001B[32m----> \u001B[39m\u001B[32m3\u001B[39m \u001B[38;5;28mprint\u001B[39m(\u001B[43mb\u001B[49m\u001B[43m \u001B[49m\u001B[43m-\u001B[49m\u001B[43m \u001B[49m\u001B[43ma\u001B[49m )\n",
      "\u001B[31mValueError\u001B[39m: operands could not be broadcast together with shapes (2,) (3,) "
     ]
    }
   ],
   "execution_count": 189
  },
  {
   "metadata": {
    "ExecuteTime": {
     "end_time": "2025-07-31T15:45:39.929835Z",
     "start_time": "2025-07-31T15:45:39.923744Z"
    }
   },
   "cell_type": "code",
   "source": [
    "# 矩阵运算\n",
    "a = np.array([[1,2,3],[4,5,6],[7,8,9]])\n",
    "b = np.array([[4,5,6],[7,8,9],[1,2,3]])\n",
    "print(a @ b)"
   ],
   "id": "7a22fd7c37edfdc6",
   "outputs": [
    {
     "name": "stdout",
     "output_type": "stream",
     "text": [
      "[[ 21  27  33]\n",
      " [ 57  72  87]\n",
      " [ 93 117 141]]\n"
     ]
    }
   ],
   "execution_count": 190
  },
  {
   "metadata": {},
   "cell_type": "markdown",
   "source": [
    "### 2.3、numpy中常用的函数\n",
    "### 1、基本数学函数"
   ],
   "id": "633a25e3c0cab0f7"
  },
  {
   "metadata": {
    "ExecuteTime": {
     "end_time": "2025-07-31T15:48:44.179376Z",
     "start_time": "2025-07-31T15:48:44.174220Z"
    }
   },
   "cell_type": "code",
   "source": [
    "# 计算平方根\n",
    "print(np.sqrt(9))\n",
    "print(np.sqrt([1,4,9],dtype=float))\n",
    "arr = np.array([1,25,81])\n",
    "print(np.sqrt(arr))"
   ],
   "id": "5a50550cfab0b3ef",
   "outputs": [
    {
     "name": "stdout",
     "output_type": "stream",
     "text": [
      "3.0\n",
      "[1. 2. 3.]\n",
      "[1. 5. 9.]\n"
     ]
    }
   ],
   "execution_count": 196
  },
  {
   "metadata": {
    "ExecuteTime": {
     "end_time": "2025-07-31T15:49:15.762072Z",
     "start_time": "2025-07-31T15:49:15.757154Z"
    }
   },
   "cell_type": "code",
   "source": [
    "# 计算指数\n",
    "print(np.exp(1))"
   ],
   "id": "c170df5c00233f3f",
   "outputs": [
    {
     "name": "stdout",
     "output_type": "stream",
     "text": [
      "2.718281828459045\n"
     ]
    }
   ],
   "execution_count": 197
  },
  {
   "metadata": {
    "ExecuteTime": {
     "end_time": "2025-07-31T15:49:56.455001Z",
     "start_time": "2025-07-31T15:49:56.448608Z"
    }
   },
   "cell_type": "code",
   "source": [
    "# 计算自然对数\n",
    "print(np.log(2.718))"
   ],
   "id": "8d84beb047b3ebc9",
   "outputs": [
    {
     "name": "stdout",
     "output_type": "stream",
     "text": [
      "0.999896315728952\n"
     ]
    }
   ],
   "execution_count": 198
  },
  {
   "metadata": {
    "ExecuteTime": {
     "end_time": "2025-07-31T15:51:20.009624Z",
     "start_time": "2025-07-31T15:51:20.001060Z"
    }
   },
   "cell_type": "code",
   "source": [
    "# 计算正弦值、余弦值\n",
    "print(np.sin(np.pi/2))\n",
    "print(np.cos(np.pi/3))"
   ],
   "id": "18da235dca211870",
   "outputs": [
    {
     "name": "stdout",
     "output_type": "stream",
     "text": [
      "1.0\n",
      "0.5000000000000001\n"
     ]
    }
   ],
   "execution_count": 201
  },
  {
   "metadata": {
    "ExecuteTime": {
     "end_time": "2025-07-31T15:52:34.470937Z",
     "start_time": "2025-07-31T15:52:34.463824Z"
    }
   },
   "cell_type": "code",
   "source": [
    "# 计算绝对值\n",
    "arr = np.array([1,2,3,-1,-4])\n",
    "print(np.abs(arr))"
   ],
   "id": "c460b62e41b679d4",
   "outputs": [
    {
     "name": "stdout",
     "output_type": "stream",
     "text": [
      "[1 2 3 1 4]\n"
     ]
    }
   ],
   "execution_count": 202
  },
  {
   "metadata": {
    "ExecuteTime": {
     "end_time": "2025-07-31T15:53:34.135545Z",
     "start_time": "2025-07-31T15:53:34.131017Z"
    }
   },
   "cell_type": "code",
   "source": [
    "# 计算a的b次幂\n",
    "print(np.power(arr,2))"
   ],
   "id": "47414bf4f5045dd2",
   "outputs": [
    {
     "name": "stdout",
     "output_type": "stream",
     "text": [
      "[ 1  4  9  1 16]\n"
     ]
    }
   ],
   "execution_count": 203
  },
  {
   "metadata": {
    "ExecuteTime": {
     "end_time": "2025-07-31T15:54:32.344618Z",
     "start_time": "2025-07-31T15:54:32.337360Z"
    }
   },
   "cell_type": "code",
   "source": [
    "# 四舍五入\n",
    "print(np.round([3.2,3.5,3.6,6,5.6]))"
   ],
   "id": "173734412d58d2f1",
   "outputs": [
    {
     "name": "stdout",
     "output_type": "stream",
     "text": [
      "[3. 4. 4. 6. 6.]\n"
     ]
    }
   ],
   "execution_count": 204
  },
  {
   "metadata": {
    "ExecuteTime": {
     "end_time": "2025-07-31T15:56:04.081038Z",
     "start_time": "2025-07-31T15:56:04.072378Z"
    }
   },
   "cell_type": "code",
   "source": [
    "# 向上取整，向下取整\n",
    "arr = np.array([3.2,3.5,3.6,6,5.6])\n",
    "print(np.ceil(arr))\n",
    "print(np.floor(arr))"
   ],
   "id": "bd40bea6e4059cef",
   "outputs": [
    {
     "name": "stdout",
     "output_type": "stream",
     "text": [
      "[4. 4. 4. 6. 6.]\n",
      "[3. 3. 3. 6. 5.]\n"
     ]
    }
   ],
   "execution_count": 205
  },
  {
   "metadata": {
    "ExecuteTime": {
     "end_time": "2025-07-31T15:56:59.012834Z",
     "start_time": "2025-07-31T15:56:59.001163Z"
    }
   },
   "cell_type": "code",
   "source": [
    "# 检测缺失值\n",
    "np.isnan([1,2,np.nan,3])"
   ],
   "id": "46b0208b73e0103a",
   "outputs": [
    {
     "data": {
      "text/plain": [
       "array([False, False,  True, False])"
      ]
     },
     "execution_count": 206,
     "metadata": {},
     "output_type": "execute_result"
    }
   ],
   "execution_count": 206
  },
  {
   "metadata": {},
   "cell_type": "markdown",
   "source": [
    "### 2、统计函数\n",
    "### 求和、计算平均值、计算中位数、标准差、方差\n",
    "### 查找最大值、最小值\n",
    "### 计算分位数、累积和、累积差"
   ],
   "id": "729392374f943dbc"
  },
  {
   "metadata": {
    "ExecuteTime": {
     "end_time": "2025-07-31T15:59:27.233129Z",
     "start_time": "2025-07-31T15:59:27.223902Z"
    }
   },
   "cell_type": "code",
   "source": [
    "arr = np.random.randint(1,100,8)\n",
    "print(arr)"
   ],
   "id": "95ea9a278942811b",
   "outputs": [
    {
     "name": "stdout",
     "output_type": "stream",
     "text": [
      "[43 59 32  2 66 42 58 36]\n"
     ]
    }
   ],
   "execution_count": 207
  },
  {
   "metadata": {
    "ExecuteTime": {
     "end_time": "2025-07-31T16:00:02.147756Z",
     "start_time": "2025-07-31T16:00:02.143234Z"
    }
   },
   "cell_type": "code",
   "source": [
    "# 求和\n",
    "print(np.sum(arr))"
   ],
   "id": "997517194ff3df9",
   "outputs": [
    {
     "name": "stdout",
     "output_type": "stream",
     "text": [
      "338\n"
     ]
    }
   ],
   "execution_count": 208
  },
  {
   "metadata": {
    "ExecuteTime": {
     "end_time": "2025-07-31T16:00:36.935385Z",
     "start_time": "2025-07-31T16:00:36.929821Z"
    }
   },
   "cell_type": "code",
   "source": [
    "# 计算平均值\n",
    "print(np.mean(arr))"
   ],
   "id": "a9abfe3040f178dc",
   "outputs": [
    {
     "name": "stdout",
     "output_type": "stream",
     "text": [
      "42.25\n"
     ]
    }
   ],
   "execution_count": 209
  },
  {
   "metadata": {
    "ExecuteTime": {
     "end_time": "2025-07-31T16:02:38.778593Z",
     "start_time": "2025-07-31T16:02:38.773478Z"
    }
   },
   "cell_type": "code",
   "source": [
    "# 计算中位数\n",
    "# 奇数：排序后中间的数值\n",
    "# 偶数：中间的两个数的平均值\n",
    "print(np.median([4,1,2]))\n",
    "print(np.median([4,1,2,3,4,5]))"
   ],
   "id": "dcfe91977f45fef1",
   "outputs": [
    {
     "name": "stdout",
     "output_type": "stream",
     "text": [
      "2.0\n",
      "3.5\n"
     ]
    }
   ],
   "execution_count": 212
  },
  {
   "metadata": {
    "ExecuteTime": {
     "end_time": "2025-07-31T16:05:13.167397Z",
     "start_time": "2025-07-31T16:05:13.159106Z"
    }
   },
   "cell_type": "code",
   "source": [
    "# 计算标准差、方差\n",
    "arr1 = np.array([1,2,3,4,5,2,2,3,1,1])\n",
    "arr2 = np.array([1,0,3,1,5,9,2,3,6,1])\n",
    "print(np.mean(arr1))\n",
    "print(np.mean(arr2))\n",
    "print(np.var(arr1))\n",
    "print(np.var(arr2))"
   ],
   "id": "43eec66e2cc51814",
   "outputs": [
    {
     "name": "stdout",
     "output_type": "stream",
     "text": [
      "2.4\n",
      "3.1\n",
      "1.6400000000000001\n",
      "7.089999999999999\n"
     ]
    }
   ],
   "execution_count": 214
  },
  {
   "metadata": {
    "ExecuteTime": {
     "end_time": "2025-07-31T16:06:24.814170Z",
     "start_time": "2025-07-31T16:06:24.807449Z"
    }
   },
   "cell_type": "code",
   "source": [
    "# 计算最大值和最小值\n",
    "print(arr)\n",
    "print(np.max(arr),np.argmax(arr))  # argmax 返回该最大值的索引\n",
    "print(np.min(arr),np.argmin(arr)) # argmin 返回该最小值的索引"
   ],
   "id": "d76dfdc03cf879c1",
   "outputs": [
    {
     "name": "stdout",
     "output_type": "stream",
     "text": [
      "[43 59 32  2 66 42 58 36]\n",
      "66 4\n",
      "2 3\n"
     ]
    }
   ],
   "execution_count": 216
  },
  {
   "metadata": {
    "ExecuteTime": {
     "end_time": "2025-07-31T16:12:11.989068Z",
     "start_time": "2025-07-31T16:12:11.981657Z"
    }
   },
   "cell_type": "code",
   "source": [
    "# 分位数\n",
    "# 中位数\n",
    "print(np.median([1,2,4]))\n",
    "print(np.median([4,1,2,3,4,5]))\n",
    "np.random.seed(0)\n",
    "arr = np.random.randint(0,100,4)\n",
    "print(arr)\n",
    "print(np.median(arr))\n",
    "print(np.percentile(arr,80))"
   ],
   "id": "1898844242a05d6",
   "outputs": [
    {
     "name": "stdout",
     "output_type": "stream",
     "text": [
      "2.0\n",
      "3.5\n",
      "[44 47 64 67]\n",
      "55.5\n",
      "65.2\n"
     ]
    }
   ],
   "execution_count": 222
  },
  {
   "metadata": {
    "ExecuteTime": {
     "end_time": "2025-07-31T16:14:11.822759Z",
     "start_time": "2025-07-31T16:14:11.818217Z"
    }
   },
   "cell_type": "code",
   "source": [
    "# 累积和、累积积\n",
    "arr = np.array([1,2,3])\n",
    "print(np.sum(arr))\n",
    "print(np.cumsum(arr))\n",
    "print(np.cumprod(arr))"
   ],
   "id": "333eb7ec407883e7",
   "outputs": [
    {
     "name": "stdout",
     "output_type": "stream",
     "text": [
      "6\n",
      "[1 3 6]\n",
      "[1 2 6]\n"
     ]
    }
   ],
   "execution_count": 225
  },
  {
   "metadata": {
    "ExecuteTime": {
     "end_time": "2025-07-31T16:26:25.463456Z",
     "start_time": "2025-07-31T16:26:25.451890Z"
    }
   },
   "cell_type": "code",
   "source": [
    "# 创建嵌套JSON结构的数据\n",
    "import json\n",
    "products = {\n",
    "    \"products\": [\n",
    "        {\n",
    "            \"id\": f\"P{i}\",\n",
    "            \"name\": f\"Product {i}\",\n",
    "            \"category\": np.random.choice([\"Electronics\", \"Clothing\", \"Home\", \"Food\"]),\n",
    "            \"price\": round(np.random.uniform(5, 200), 2),\n",
    "            \"in_stock\": np.random.choice([True, False]),\n",
    "            \"specs\": {\n",
    "                \"weight\": round(np.random.uniform(0.1, 5), 2),\n",
    "                \"dimensions\": {\n",
    "                    \"length\": np.random.randint(5, 50),\n",
    "                    \"width\": np.random.randint(5, 30),\n",
    "                    \"height\": np.random.randint(5, 20)\n",
    "                }\n",
    "            }\n",
    "        } for i in range(1, 21)\n",
    "    ]\n",
    "}\n",
    "\n",
    "def json_serializer(obj):\n",
    "    if isinstance(obj, np.bool_):\n",
    "        return bool(obj)\n",
    "    elif isinstance(obj, (np.integer, np.int32, np.int64)):\n",
    "        return int(obj)\n",
    "    elif isinstance(obj, (np.floating, np.float32, np.float64)):\n",
    "        return float(obj)\n",
    "    elif isinstance(obj, np.ndarray):\n",
    "        return obj.tolist()\n",
    "    raise TypeError(f\"Type {type(obj)} not serializable\")\n",
    "\n",
    "with open('data/products.json', 'w') as f:\n",
    "    print(type(products))\n",
    "    json.dump(products, f, indent=2, default=json_serializer)"
   ],
   "id": "e2ceebae45d4cc86",
   "outputs": [
    {
     "name": "stdout",
     "output_type": "stream",
     "text": [
      "<class 'dict'>\n"
     ]
    }
   ],
   "execution_count": 233
  }
 ],
 "metadata": {
  "kernelspec": {
   "display_name": "Python 3",
   "language": "python",
   "name": "python3"
  },
  "language_info": {
   "codemirror_mode": {
    "name": "ipython",
    "version": 2
   },
   "file_extension": ".py",
   "mimetype": "text/x-python",
   "name": "python",
   "nbconvert_exporter": "python",
   "pygments_lexer": "ipython2",
   "version": "2.7.6"
  }
 },
 "nbformat": 4,
 "nbformat_minor": 5
}
