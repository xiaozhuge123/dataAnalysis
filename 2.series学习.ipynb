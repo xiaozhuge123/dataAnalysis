{
 "cells": [
  {
   "cell_type": "code",
   "id": "initial_id",
   "metadata": {
    "collapsed": true,
    "ExecuteTime": {
     "end_time": "2025-08-03T07:37:59.031296Z",
     "start_time": "2025-08-03T07:37:59.022381Z"
    }
   },
   "source": [
    "import numpy as np\n",
    "# series 的创建\n",
    "import pandas as pd\n",
    "s = pd.Series([1,2,3,4,5,6,7,8,9,10,11,12,13,14,15])\n",
    "print(s[0:3:2])\n",
    "print('*' * 30)\n",
    "# 自定义索引\n",
    "s = pd.Series([1,2,3,4,5],index=['a','b','c','d','e'])\n",
    "print(s)\n",
    "print('*' * 30)\n",
    "# 定义name\n",
    "s = pd.Series([1,2,3,4,5],index=['a','b','c','d','e'],name='月份')\n",
    "print(s)"
   ],
   "outputs": [
    {
     "name": "stdout",
     "output_type": "stream",
     "text": [
      "0    1\n",
      "2    3\n",
      "dtype: int64\n",
      "******************************\n",
      "a    1\n",
      "b    2\n",
      "c    3\n",
      "d    4\n",
      "e    5\n",
      "dtype: int64\n",
      "******************************\n",
      "a    1\n",
      "b    2\n",
      "c    3\n",
      "d    4\n",
      "e    5\n",
      "Name: 月份, dtype: int64\n"
     ]
    }
   ],
   "execution_count": 42
  },
  {
   "metadata": {
    "ExecuteTime": {
     "end_time": "2025-08-03T07:24:35.805768Z",
     "start_time": "2025-08-03T07:24:35.798424Z"
    }
   },
   "cell_type": "code",
   "source": [
    "# 通过字典来创建\n",
    "s = pd.Series({'a':1,'b':2,'c':3,'d':4})\n",
    "print(s)\n",
    "s2 = pd.Series([10,9,2,3,4],index=['a','b','c','d','e'],name = '月份')\n",
    "print(s2)\n",
    "s1 = pd.Series(s2,index=['a','c'])\n",
    "print(s1)"
   ],
   "id": "ba902ec83ac374a3",
   "outputs": [
    {
     "name": "stdout",
     "output_type": "stream",
     "text": [
      "a    1\n",
      "b    2\n",
      "c    3\n",
      "d    4\n",
      "dtype: int64\n",
      "a    10\n",
      "b     9\n",
      "c     2\n",
      "d     3\n",
      "e     4\n",
      "Name: 月份, dtype: int64\n",
      "a    10\n",
      "c     2\n",
      "Name: 月份, dtype: int64\n"
     ]
    }
   ],
   "execution_count": 17
  },
  {
   "metadata": {
    "ExecuteTime": {
     "end_time": "2025-08-03T07:33:23.067437Z",
     "start_time": "2025-08-03T07:33:23.060708Z"
    }
   },
   "cell_type": "code",
   "source": [
    "# series的属性\n",
    "'''\n",
    "index:Series的索引对象\n",
    "values:Series的值\n",
    "dtype或dtypes\"Series的元素类型\n",
    "shape:Series的形状\n",
    "ndim:Series的维度\n",
    "size:Series的元素个数\n",
    "name:Series的名称\n",
    "loc[]  显式索引，按标签索引或切片\n",
    "iloc[]  隐式索引，按位置索引或切片\n",
    "at[]  使用标签访问单个元素\n",
    "iat[]  使用位置访问单个元素\n",
    "'''\n",
    "print(s)\n",
    "print(s.index)\n",
    "print(s.values)\n",
    "print(s.shape,s.ndim,s.size)\n",
    "s.name = 'test'\n",
    "print(s.dtype,s.name)\n",
    "print(s.loc['a']) # 显示索引\n",
    "print(s.iloc[0]) # 隐式索引\n",
    "print(s.at['c'])\n",
    "print(s.iat[3])"
   ],
   "id": "7fe2a7b6d95d33bd",
   "outputs": [
    {
     "name": "stdout",
     "output_type": "stream",
     "text": [
      "a    1\n",
      "b    2\n",
      "c    3\n",
      "d    4\n",
      "Name: test, dtype: int64\n",
      "Index(['a', 'b', 'c', 'd'], dtype='object')\n",
      "[1 2 3 4]\n",
      "(4,) 1 4\n",
      "int64 test\n",
      "1\n",
      "1\n",
      "3\n",
      "4\n"
     ]
    }
   ],
   "execution_count": 32
  },
  {
   "metadata": {
    "ExecuteTime": {
     "end_time": "2025-08-03T07:35:40.865250Z",
     "start_time": "2025-08-03T07:35:40.854728Z"
    }
   },
   "cell_type": "code",
   "source": [
    "# 访问数据\n",
    "print(s['a'])\n",
    "print(s)\n",
    "print(s[s<3])\n",
    "s['f'] = 6\n",
    "print(s)\n",
    "print(s.head(2))\n",
    "print(s.tail(2))"
   ],
   "id": "f3d51d4a7989803a",
   "outputs": [
    {
     "name": "stdout",
     "output_type": "stream",
     "text": [
      "1\n",
      "a    1\n",
      "b    2\n",
      "c    3\n",
      "d    4\n",
      "f    6\n",
      "Name: test, dtype: int64\n",
      "a    1\n",
      "b    2\n",
      "Name: test, dtype: int64\n",
      "a    1\n",
      "b    2\n",
      "c    3\n",
      "d    4\n",
      "f    6\n",
      "Name: test, dtype: int64\n",
      "a    1\n",
      "b    2\n",
      "Name: test, dtype: int64\n",
      "d    4\n",
      "f    6\n",
      "Name: test, dtype: int64\n"
     ]
    }
   ],
   "execution_count": 40
  },
  {
   "metadata": {
    "ExecuteTime": {
     "end_time": "2025-08-03T07:38:24.650331Z",
     "start_time": "2025-08-03T07:38:24.644014Z"
    }
   },
   "cell_type": "code",
   "source": [
    "# 常见函数\n",
    "s = pd.Series([1,2,np.nan,None,5,6],index=['a','b','c','d','e','f'],name='data')\n",
    "print(s)"
   ],
   "id": "290ce2eee7828f70",
   "outputs": [
    {
     "name": "stdout",
     "output_type": "stream",
     "text": [
      "a    1.0\n",
      "b    2.0\n",
      "c    NaN\n",
      "d    NaN\n",
      "e    5.0\n",
      "f    6.0\n",
      "Name: data, dtype: float64\n"
     ]
    }
   ],
   "execution_count": 44
  },
  {
   "metadata": {
    "ExecuteTime": {
     "end_time": "2025-08-03T07:40:48.893346Z",
     "start_time": "2025-08-03T07:40:48.884117Z"
    }
   },
   "cell_type": "code",
   "source": [
    "s.head(2) # 默认读取前5行\n",
    "s.tail(3) # 默认读取后3行"
   ],
   "id": "6947f61d72908dd3",
   "outputs": [
    {
     "data": {
      "text/plain": [
       "d    NaN\n",
       "e    5.0\n",
       "f    6.0\n",
       "Name: data, dtype: float64"
      ]
     },
     "execution_count": 55,
     "metadata": {},
     "output_type": "execute_result"
    }
   ],
   "execution_count": 55
  },
  {
   "metadata": {
    "ExecuteTime": {
     "end_time": "2025-08-03T07:42:15.630205Z",
     "start_time": "2025-08-03T07:42:15.613408Z"
    }
   },
   "cell_type": "code",
   "source": [
    "# 查询所有的描述性信息\n",
    "s.describe()"
   ],
   "id": "e7d0e4f603444f7",
   "outputs": [
    {
     "data": {
      "text/plain": [
       "count    4.000000\n",
       "mean     3.500000\n",
       "std      2.380476\n",
       "min      1.000000\n",
       "25%      1.750000\n",
       "50%      3.500000\n",
       "75%      5.250000\n",
       "max      6.000000\n",
       "Name: data, dtype: float64"
      ]
     },
     "execution_count": 56,
     "metadata": {},
     "output_type": "execute_result"
    }
   ],
   "execution_count": 56
  },
  {
   "metadata": {
    "ExecuteTime": {
     "end_time": "2025-08-03T07:44:05.134004Z",
     "start_time": "2025-08-03T07:44:05.126373Z"
    }
   },
   "cell_type": "code",
   "source": [
    "# 获取元素个数（忽略缺失值）\n",
    "print(s.count())"
   ],
   "id": "613863743a26572e",
   "outputs": [
    {
     "name": "stdout",
     "output_type": "stream",
     "text": [
      "4\n"
     ]
    }
   ],
   "execution_count": 57
  },
  {
   "metadata": {
    "ExecuteTime": {
     "end_time": "2025-08-03T07:46:37.902961Z",
     "start_time": "2025-08-03T07:46:37.897531Z"
    }
   },
   "cell_type": "code",
   "source": [
    "# 获取索引\n",
    "print(s.keys()) # 方法\n",
    "print(s.index) # 属性\n",
    "print(s.values) # 值"
   ],
   "id": "218a0b46e533327b",
   "outputs": [
    {
     "name": "stdout",
     "output_type": "stream",
     "text": [
      "Index(['a', 'b', 'c', 'd', 'e', 'f'], dtype='object')\n",
      "Index(['a', 'b', 'c', 'd', 'e', 'f'], dtype='object')\n",
      "[ 1.  2. nan nan  5.  6.]\n"
     ]
    }
   ],
   "execution_count": 59
  },
  {
   "metadata": {
    "ExecuteTime": {
     "end_time": "2025-08-03T07:47:51.869167Z",
     "start_time": "2025-08-03T07:47:51.861016Z"
    }
   },
   "cell_type": "code",
   "source": [
    "print(s.isna()) # 检查是否为缺失值\n",
    "s.isna()"
   ],
   "id": "e504dc6e37542722",
   "outputs": [
    {
     "name": "stdout",
     "output_type": "stream",
     "text": [
      "a    False\n",
      "b    False\n",
      "c     True\n",
      "d     True\n",
      "e    False\n",
      "f    False\n",
      "Name: data, dtype: bool\n"
     ]
    },
    {
     "data": {
      "text/plain": [
       "a    False\n",
       "b    False\n",
       "c     True\n",
       "d     True\n",
       "e    False\n",
       "f    False\n",
       "Name: data, dtype: bool"
      ]
     },
     "execution_count": 60,
     "metadata": {},
     "output_type": "execute_result"
    }
   ],
   "execution_count": 60
  },
  {
   "metadata": {
    "ExecuteTime": {
     "end_time": "2025-08-03T07:48:45.118597Z",
     "start_time": "2025-08-03T07:48:45.111902Z"
    }
   },
   "cell_type": "code",
   "source": "s.isin([4,5,6]) # 检查每个元素是否在参数集合中",
   "id": "1e54d3d14da48226",
   "outputs": [
    {
     "data": {
      "text/plain": [
       "a    False\n",
       "b    False\n",
       "c    False\n",
       "d    False\n",
       "e     True\n",
       "f     True\n",
       "Name: data, dtype: bool"
      ]
     },
     "execution_count": 61,
     "metadata": {},
     "output_type": "execute_result"
    }
   ],
   "execution_count": 61
  },
  {
   "metadata": {
    "ExecuteTime": {
     "end_time": "2025-08-03T07:49:24.237064Z",
     "start_time": "2025-08-03T07:49:24.224665Z"
    }
   },
   "cell_type": "code",
   "source": "s.describe()",
   "id": "30faf4b646d31c19",
   "outputs": [
    {
     "data": {
      "text/plain": [
       "count    4.000000\n",
       "mean     3.500000\n",
       "std      2.380476\n",
       "min      1.000000\n",
       "25%      1.750000\n",
       "50%      3.500000\n",
       "75%      5.250000\n",
       "max      6.000000\n",
       "Name: data, dtype: float64"
      ]
     },
     "execution_count": 62,
     "metadata": {},
     "output_type": "execute_result"
    }
   ],
   "execution_count": 62
  },
  {
   "metadata": {
    "ExecuteTime": {
     "end_time": "2025-08-03T07:52:14.787954Z",
     "start_time": "2025-08-03T07:52:14.781232Z"
    }
   },
   "cell_type": "code",
   "source": [
    "print(s.mean()) # 平均值\n",
    "print(s.sum()) # 总和\n",
    "print(s.std()) # 标准差\n",
    "print(s.var()) # 方差\n",
    "print(s.min()) # 最小值\n",
    "print(s.max()) # 最大值\n",
    "print(s.median()) # 中位数"
   ],
   "id": "55daf0a45c1fc1b5",
   "outputs": [
    {
     "name": "stdout",
     "output_type": "stream",
     "text": [
      "3.5\n",
      "14.0\n",
      "2.3804761428476167\n",
      "5.666666666666667\n",
      "1.0\n",
      "6.0\n",
      "3.5\n"
     ]
    }
   ],
   "execution_count": 64
  },
  {
   "metadata": {
    "ExecuteTime": {
     "end_time": "2025-08-03T07:54:50.377606Z",
     "start_time": "2025-08-03T07:54:50.367065Z"
    }
   },
   "cell_type": "code",
   "source": [
    "print(s.sort_index())\n",
    "print(s.sort_index(ascending=False))\n",
    "print(s.sort_values(ascending=False))\n",
    "print(s.sort_values())\n",
    "\n",
    "# 分位数\n",
    "print(s)\n",
    "# --------------------\n",
    "# 1   2    5   6\n",
    "# 3 * 0.8 = 2.4  索引位置2\n",
    "# 5 + （6-5）*0.4 = 5.4\n",
    "print(s.quantile(0.8))"
   ],
   "id": "40c382b5dc6f1ee5",
   "outputs": [
    {
     "name": "stdout",
     "output_type": "stream",
     "text": [
      "a    1.0\n",
      "b    2.0\n",
      "c    NaN\n",
      "d    NaN\n",
      "e    5.0\n",
      "f    6.0\n",
      "Name: data, dtype: float64\n",
      "f    6.0\n",
      "e    5.0\n",
      "d    NaN\n",
      "c    NaN\n",
      "b    2.0\n",
      "a    1.0\n",
      "Name: data, dtype: float64\n",
      "f    6.0\n",
      "e    5.0\n",
      "b    2.0\n",
      "a    1.0\n",
      "c    NaN\n",
      "d    NaN\n",
      "Name: data, dtype: float64\n",
      "a    1.0\n",
      "b    2.0\n",
      "e    5.0\n",
      "f    6.0\n",
      "c    NaN\n",
      "d    NaN\n",
      "Name: data, dtype: float64\n",
      "a    1.0\n",
      "b    2.0\n",
      "c    NaN\n",
      "d    NaN\n",
      "e    5.0\n",
      "f    6.0\n",
      "Name: data, dtype: float64\n",
      "5.4\n"
     ]
    }
   ],
   "execution_count": 71
  },
  {
   "metadata": {
    "ExecuteTime": {
     "end_time": "2025-08-03T07:57:12.198036Z",
     "start_time": "2025-08-03T07:57:12.192505Z"
    }
   },
   "cell_type": "code",
   "source": [
    "# 众数\n",
    "s['h'] = 6\n",
    "print(s.mode())"
   ],
   "id": "6a1320d96b2c7785",
   "outputs": [
    {
     "name": "stdout",
     "output_type": "stream",
     "text": [
      "0    6.0\n",
      "Name: data, dtype: float64\n"
     ]
    }
   ],
   "execution_count": 72
  },
  {
   "metadata": {
    "ExecuteTime": {
     "end_time": "2025-08-03T07:58:37.613324Z",
     "start_time": "2025-08-03T07:58:37.605163Z"
    }
   },
   "cell_type": "code",
   "source": "print(s.value_counts()) # 每个元素计数",
   "id": "5c510864823dfae3",
   "outputs": [
    {
     "name": "stdout",
     "output_type": "stream",
     "text": [
      "data\n",
      "6.0    2\n",
      "1.0    1\n",
      "2.0    1\n",
      "5.0    1\n",
      "Name: count, dtype: int64\n"
     ]
    }
   ],
   "execution_count": 75
  },
  {
   "metadata": {
    "ExecuteTime": {
     "end_time": "2025-08-03T07:59:43.557193Z",
     "start_time": "2025-08-03T07:59:43.548436Z"
    }
   },
   "cell_type": "code",
   "source": [
    "s.drop_duplicates() # 元素去重\n",
    "s.unique()\n",
    "print(s.nunique()) # 去重后的元素个数"
   ],
   "id": "ef082df9aa02b762",
   "outputs": [
    {
     "name": "stdout",
     "output_type": "stream",
     "text": [
      "4\n"
     ]
    }
   ],
   "execution_count": 78
  },
  {
   "metadata": {
    "ExecuteTime": {
     "end_time": "2025-08-03T08:00:49.208071Z",
     "start_time": "2025-08-03T08:00:49.202028Z"
    }
   },
   "cell_type": "code",
   "source": [
    "# 排序 值、索引\n",
    "s.sort_index()\n",
    "# s.sort_values()"
   ],
   "id": "4e2d4f95744b4c3c",
   "outputs": [
    {
     "data": {
      "text/plain": [
       "a    1.0\n",
       "b    2.0\n",
       "c    NaN\n",
       "d    NaN\n",
       "e    5.0\n",
       "f    6.0\n",
       "h    6.0\n",
       "Name: data, dtype: float64"
      ]
     },
     "execution_count": 82,
     "metadata": {},
     "output_type": "execute_result"
    }
   ],
   "execution_count": 82
  },
  {
   "metadata": {
    "ExecuteTime": {
     "end_time": "2025-08-03T08:10:33.187230Z",
     "start_time": "2025-08-03T08:10:33.178964Z"
    }
   },
   "cell_type": "code",
   "source": [
    "'''创建一个包含10名学生数学成绩的Series，成绩范围在50-100之间。\n",
    "计算平均分、最高分、最低分，并找出高于平均分的学生人数。'''\n",
    "np.random.seed(42)\n",
    "values = np.random.randint(50,101,10)\n",
    "print(values)\n",
    "indexes = []\n",
    "for i in range(1,11):\n",
    "    indexes.append('学生' + str(i))\n",
    "scores = pd.Series(values,index=indexes)\n",
    "print('平均分：',scores.mean())\n",
    "print('最高分：',scores.max())\n",
    "print('最低分：',scores.min())\n",
    "# 高于平均分的人数\n",
    "print('高于平均分的人数：',len(scores[scores > scores.mean()]))\n",
    "print('高于平均分的人数：',scores[scores > scores.mean()].count())"
   ],
   "id": "d5d5528434915b18",
   "outputs": [
    {
     "name": "stdout",
     "output_type": "stream",
     "text": [
      "[88 78 64 92 57 70 88 68 72 60]\n",
      "平均分： 73.7\n",
      "最高分： 92\n",
      "最低分： 57\n",
      "高于平均分的人数： 4\n",
      "高于平均分的人数： 4\n"
     ]
    }
   ],
   "execution_count": 97
  },
  {
   "metadata": {
    "ExecuteTime": {
     "end_time": "2025-08-03T08:17:16.736977Z",
     "start_time": "2025-08-03T08:17:16.724775Z"
    }
   },
   "cell_type": "code",
   "source": [
    "'''温度数据统计\n",
    "给定某城市一周每天的最高温度Series，完成以下任务：\n",
    "找出温度超过30度的天数\n",
    "计算平均温度\n",
    "将温度从高到低排序\n",
    "找出温度变化最大的两天\n",
    "'''\n",
    "temperatures = pd.Series([28, 31, 29, 32, 30, 27, 33],\n",
    "                         index=['周一', '周二', '周三', '周四', '周五', '周六', '周日'])\n",
    "# 找出温度超过30度的天数\n",
    "n = temperatures[temperatures > 30].count()\n",
    "print('温度超过30度的天数:', n)\n",
    "print('计算平均温度：',temperatures.mean())\n",
    "# 将温度从高到低排序\n",
    "temperatures.sort_values(ascending = False)\n",
    "# 找出温度变化最大的两天\n",
    "t3 = temperatures.diff().abs()\n",
    "print(t3)\n",
    "t3.sort_values(ascending = False).keys()[:2].tolist()\n"
   ],
   "id": "64183152b71b9563",
   "outputs": [
    {
     "name": "stdout",
     "output_type": "stream",
     "text": [
      "温度超过30度的天数: 3\n",
      "计算平均温度： 30.0\n",
      "周一    NaN\n",
      "周二    3.0\n",
      "周三    2.0\n",
      "周四    3.0\n",
      "周五    2.0\n",
      "周六    3.0\n",
      "周日    6.0\n",
      "dtype: float64\n"
     ]
    },
    {
     "data": {
      "text/plain": [
       "['周日', '周二']"
      ]
     },
     "execution_count": 103,
     "metadata": {},
     "output_type": "execute_result"
    }
   ],
   "execution_count": 103
  },
  {
   "metadata": {},
   "cell_type": "code",
   "outputs": [],
   "execution_count": null,
   "source": [
    "'''\n",
    "股票价格分析\n",
    "给定某股票连续10个交易日的收盘价Series：\n",
    "计算每日收益率（当日收盘价/前日收盘价 - 1）\n",
    "找出收益率最高和最低的日期\n",
    "计算波动率（收益率的标准差）\n",
    "\n",
    "\n",
    "prices = pd.Series([102.3, 103.5, 105.1, 104.8, 106.2, 107.0, 106.5, 108.1, 109.3, 110.2], index=pd.date_range('2023-01-01', periods=10))\n",
    "'''"
   ],
   "id": "4d8cdc53bbb32b5e"
  },
  {
   "metadata": {
    "ExecuteTime": {
     "end_time": "2025-08-03T08:20:10.322250Z",
     "start_time": "2025-08-03T08:20:10.314997Z"
    }
   },
   "cell_type": "code",
   "source": [
    "date = pd.date_range('2022-01-01', periods=10)\n",
    "print(date)\n",
    "prices = pd.Series([102.3, 103.5, 105.1, 104.8, 106.2, 107.0, 106.5, 108.1, 109.3, 110.2], index=pd.date_range('2023-01-01', periods=10))\n",
    "print(prices)"
   ],
   "id": "4f84dbe2731a247e",
   "outputs": [
    {
     "name": "stdout",
     "output_type": "stream",
     "text": [
      "DatetimeIndex(['2022-01-01', '2022-01-02', '2022-01-03', '2022-01-04',\n",
      "               '2022-01-05', '2022-01-06', '2022-01-07', '2022-01-08',\n",
      "               '2022-01-09', '2022-01-10'],\n",
      "              dtype='datetime64[ns]', freq='D')\n",
      "2023-01-01    102.3\n",
      "2023-01-02    103.5\n",
      "2023-01-03    105.1\n",
      "2023-01-04    104.8\n",
      "2023-01-05    106.2\n",
      "2023-01-06    107.0\n",
      "2023-01-07    106.5\n",
      "2023-01-08    108.1\n",
      "2023-01-09    109.3\n",
      "2023-01-10    110.2\n",
      "Freq: D, dtype: float64\n"
     ]
    }
   ],
   "execution_count": 105
  },
  {
   "metadata": {
    "ExecuteTime": {
     "end_time": "2025-08-03T08:24:29.174367Z",
     "start_time": "2025-08-03T08:24:29.169197Z"
    }
   },
   "cell_type": "code",
   "source": [
    "# 计算每日收益率\n",
    "a = prices.pct_change()\n",
    "print(a)"
   ],
   "id": "c577c46a7a487021",
   "outputs": [
    {
     "name": "stdout",
     "output_type": "stream",
     "text": [
      "2023-01-01         NaN\n",
      "2023-01-02    0.011730\n",
      "2023-01-03    0.015459\n",
      "2023-01-04   -0.002854\n",
      "2023-01-05    0.013359\n",
      "2023-01-06    0.007533\n",
      "2023-01-07   -0.004673\n",
      "2023-01-08    0.015023\n",
      "2023-01-09    0.011101\n",
      "2023-01-10    0.008234\n",
      "Freq: D, dtype: float64\n"
     ]
    }
   ],
   "execution_count": 107
  },
  {
   "metadata": {
    "ExecuteTime": {
     "end_time": "2025-08-03T08:26:01.653044Z",
     "start_time": "2025-08-03T08:26:01.648402Z"
    }
   },
   "cell_type": "code",
   "source": [
    "# 收益率最高的日期\n",
    "print(a.idxmax())\n",
    "# 收益率最低的日期\n",
    "print(a.idxmin())\n",
    "# 波动率\n",
    "print(a.std())"
   ],
   "id": "12cc3d5416a0e6a0",
   "outputs": [
    {
     "name": "stdout",
     "output_type": "stream",
     "text": [
      "2023-01-03 00:00:00\n",
      "2023-01-07 00:00:00\n",
      "0.007373623845361105\n"
     ]
    }
   ],
   "execution_count": 110
  },
  {
   "metadata": {},
   "cell_type": "code",
   "outputs": [],
   "execution_count": null,
   "source": [
    "'''销售数据分析\n",
    "某产品过去12个月的销售量Series：\n",
    "计算季度平均销量（每3个月为一个季度）\n",
    "找出销量最高的月份\n",
    "计算月环比增长率\n",
    "找出连续增长超过2个月的月份\n",
    "\n",
    "sales = pd.Series([120, 135, 145, 160, 155, 170, 180, 175, 190, 200, 210, 220],index=pd.date_range('2022-01-01', periods=12, freq='MS'))'''"
   ],
   "id": "5e402bbacb972ab1"
  },
  {
   "metadata": {
    "ExecuteTime": {
     "end_time": "2025-08-03T08:27:38.646408Z",
     "start_time": "2025-08-03T08:27:38.640882Z"
    }
   },
   "cell_type": "code",
   "source": [
    "a = pd.date_range('2022-01-01', periods=12, freq='MS')\n",
    "print(a)"
   ],
   "id": "84d7aaa2b45f08f",
   "outputs": [
    {
     "name": "stdout",
     "output_type": "stream",
     "text": [
      "DatetimeIndex(['2022-01-01', '2022-02-01', '2022-03-01', '2022-04-01',\n",
      "               '2022-05-01', '2022-06-01', '2022-07-01', '2022-08-01',\n",
      "               '2022-09-01', '2022-10-01', '2022-11-01', '2022-12-01'],\n",
      "              dtype='datetime64[ns]', freq='MS')\n"
     ]
    }
   ],
   "execution_count": 115
  },
  {
   "metadata": {
    "ExecuteTime": {
     "end_time": "2025-08-03T08:28:00.447757Z",
     "start_time": "2025-08-03T08:28:00.438357Z"
    }
   },
   "cell_type": "code",
   "source": [
    "sales = pd.Series([120, 135, 145, 160, 155, 170, 180, 175, 190, 200, 210, 220],index=pd.date_range('2022-01-01', periods=12, freq='MS'))\n",
    "print(sales)"
   ],
   "id": "99e75d427b01b1fa",
   "outputs": [
    {
     "name": "stdout",
     "output_type": "stream",
     "text": [
      "2022-01-01    120\n",
      "2022-02-01    135\n",
      "2022-03-01    145\n",
      "2022-04-01    160\n",
      "2022-05-01    155\n",
      "2022-06-01    170\n",
      "2022-07-01    180\n",
      "2022-08-01    175\n",
      "2022-09-01    190\n",
      "2022-10-01    200\n",
      "2022-11-01    210\n",
      "2022-12-01    220\n",
      "Freq: MS, dtype: int64\n"
     ]
    }
   ],
   "execution_count": 116
  },
  {
   "metadata": {
    "ExecuteTime": {
     "end_time": "2025-08-03T08:29:02.092987Z",
     "start_time": "2025-08-03T08:29:02.079480Z"
    }
   },
   "cell_type": "code",
   "source": "sales.resample('QS').mean() # 重新采样",
   "id": "1a7eaaabeaae2ec1",
   "outputs": [
    {
     "data": {
      "text/plain": [
       "2022-01-01    133.333333\n",
       "2022-04-01    161.666667\n",
       "2022-07-01    181.666667\n",
       "2022-10-01    210.000000\n",
       "Freq: QS-JAN, dtype: float64"
      ]
     },
     "execution_count": 117,
     "metadata": {},
     "output_type": "execute_result"
    }
   ],
   "execution_count": 117
  },
  {
   "metadata": {
    "ExecuteTime": {
     "end_time": "2025-08-03T08:30:10.792960Z",
     "start_time": "2025-08-03T08:30:10.783479Z"
    }
   },
   "cell_type": "code",
   "source": "print('销量最高的月份：',sales.idxmax())",
   "id": "885e5ba0000ab110",
   "outputs": [
    {
     "name": "stdout",
     "output_type": "stream",
     "text": [
      "销量最高的月份： 2022-12-01 00:00:00\n"
     ]
    }
   ],
   "execution_count": 118
  },
  {
   "metadata": {
    "ExecuteTime": {
     "end_time": "2025-08-03T08:31:14.316391Z",
     "start_time": "2025-08-03T08:31:14.306397Z"
    }
   },
   "cell_type": "code",
   "source": "print('月环比环比增长率：',sales.pct_change())",
   "id": "f6cbd6a0c92da69f",
   "outputs": [
    {
     "name": "stdout",
     "output_type": "stream",
     "text": [
      "月环比环比增长率： 2022-01-01         NaN\n",
      "2022-02-01    0.125000\n",
      "2022-03-01    0.074074\n",
      "2022-04-01    0.103448\n",
      "2022-05-01   -0.031250\n",
      "2022-06-01    0.096774\n",
      "2022-07-01    0.058824\n",
      "2022-08-01   -0.027778\n",
      "2022-09-01    0.085714\n",
      "2022-10-01    0.052632\n",
      "2022-11-01    0.050000\n",
      "2022-12-01    0.047619\n",
      "Freq: MS, dtype: float64\n"
     ]
    }
   ],
   "execution_count": 119
  },
  {
   "metadata": {
    "ExecuteTime": {
     "end_time": "2025-08-03T08:33:58.312217Z",
     "start_time": "2025-08-03T08:33:58.298956Z"
    }
   },
   "cell_type": "code",
   "source": [
    "s = sales.pct_change()\n",
    "b = s > 0\n",
    "print(b)\n",
    "b[b.rolling(3).sum() == 3].keys().tolist()"
   ],
   "id": "348b96eba16e1921",
   "outputs": [
    {
     "name": "stdout",
     "output_type": "stream",
     "text": [
      "2022-01-01    False\n",
      "2022-02-01     True\n",
      "2022-03-01     True\n",
      "2022-04-01     True\n",
      "2022-05-01    False\n",
      "2022-06-01     True\n",
      "2022-07-01     True\n",
      "2022-08-01    False\n",
      "2022-09-01     True\n",
      "2022-10-01     True\n",
      "2022-11-01     True\n",
      "2022-12-01     True\n",
      "Freq: MS, dtype: bool\n"
     ]
    },
    {
     "data": {
      "text/plain": [
       "[Timestamp('2022-04-01 00:00:00'),\n",
       " Timestamp('2022-11-01 00:00:00'),\n",
       " Timestamp('2022-12-01 00:00:00')]"
      ]
     },
     "execution_count": 123,
     "metadata": {},
     "output_type": "execute_result"
    }
   ],
   "execution_count": 123
  },
  {
   "metadata": {},
   "cell_type": "code",
   "outputs": [],
   "execution_count": null,
   "source": [
    "'''每小时销售数据分析\n",
    "某商店每小时销售额Series：\n",
    "按天重采样计算每日总销售额\n",
    "计算每天营业时间（8:00-22:00）和非营业时间的销售额比例\n",
    "找出销售额最高的3个小时'''"
   ],
   "id": "2b9c9116b9e633ac"
  },
  {
   "metadata": {
    "ExecuteTime": {
     "end_time": "2025-08-03T08:37:04.947532Z",
     "start_time": "2025-08-03T08:37:04.938760Z"
    }
   },
   "cell_type": "code",
   "source": [
    "np.random.seed(42)\n",
    "h = pd.Series(np.random.randint(0,100,24),index=pd.date_range('2025-01-01',periods=24,freq='h'))\n",
    "print(h)"
   ],
   "id": "57b66e5e9fa475d8",
   "outputs": [
    {
     "name": "stdout",
     "output_type": "stream",
     "text": [
      "2025-01-01 00:00:00    51\n",
      "2025-01-01 01:00:00    92\n",
      "2025-01-01 02:00:00    14\n",
      "2025-01-01 03:00:00    71\n",
      "2025-01-01 04:00:00    60\n",
      "2025-01-01 05:00:00    20\n",
      "2025-01-01 06:00:00    82\n",
      "2025-01-01 07:00:00    86\n",
      "2025-01-01 08:00:00    74\n",
      "2025-01-01 09:00:00    74\n",
      "2025-01-01 10:00:00    87\n",
      "2025-01-01 11:00:00    99\n",
      "2025-01-01 12:00:00    23\n",
      "2025-01-01 13:00:00     2\n",
      "2025-01-01 14:00:00    21\n",
      "2025-01-01 15:00:00    52\n",
      "2025-01-01 16:00:00     1\n",
      "2025-01-01 17:00:00    87\n",
      "2025-01-01 18:00:00    29\n",
      "2025-01-01 19:00:00    37\n",
      "2025-01-01 20:00:00     1\n",
      "2025-01-01 21:00:00    63\n",
      "2025-01-01 22:00:00    59\n",
      "2025-01-01 23:00:00    20\n",
      "Freq: h, dtype: int32\n"
     ]
    }
   ],
   "execution_count": 124
  },
  {
   "metadata": {
    "ExecuteTime": {
     "end_time": "2025-08-03T08:44:05.613921Z",
     "start_time": "2025-08-03T08:44:05.604678Z"
    }
   },
   "cell_type": "code",
   "source": [
    "# 按天重采样计算每日总销售额\n",
    "day_sales = h.resample('D').sum()\n",
    "print(day_sales)\n",
    "# 计算每天营业时间（8:00-22:00）和非营业时间的销售额比例\n",
    "mask = (h.index.hour >= 8) & (h.index.hour <= 22)\n",
    "b = h[mask]\n",
    "n_b = h[~mask]\n",
    "print(b.sum()/n_b.sum())\n",
    "# 找出销售额最高的3个小时\n",
    "print(h.nlargest(3).keys())\n",
    "\n",
    "h_m = h.sort_values(ascending=False).head(3)\n",
    "print(h_m.keys())"
   ],
   "id": "e5f989390d8918a4",
   "outputs": [
    {
     "name": "stdout",
     "output_type": "stream",
     "text": [
      "2025-01-01    1205\n",
      "Freq: D, dtype: int32\n",
      "1.4294354838709677\n",
      "DatetimeIndex(['2025-01-01 11:00:00', '2025-01-01 01:00:00',\n",
      "               '2025-01-01 10:00:00'],\n",
      "              dtype='datetime64[ns]', freq=None)\n",
      "DatetimeIndex(['2025-01-01 11:00:00', '2025-01-01 01:00:00',\n",
      "               '2025-01-01 10:00:00'],\n",
      "              dtype='datetime64[ns]', freq=None)\n"
     ]
    }
   ],
   "execution_count": 132
  }
 ],
 "metadata": {
  "kernelspec": {
   "display_name": "Python 3",
   "language": "python",
   "name": "python3"
  },
  "language_info": {
   "codemirror_mode": {
    "name": "ipython",
    "version": 2
   },
   "file_extension": ".py",
   "mimetype": "text/x-python",
   "name": "python",
   "nbconvert_exporter": "python",
   "pygments_lexer": "ipython2",
   "version": "2.7.6"
  }
 },
 "nbformat": 4,
 "nbformat_minor": 5
}
